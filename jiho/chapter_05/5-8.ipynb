{
 "cells": [
  {
   "cell_type": "markdown",
   "id": "080d6591",
   "metadata": {},
   "source": [
    "### DataFrame\n",
    "- Pandas 에서 사용하는 기본 데이터는 데이터프레임(DataFrame)이다.\n",
    "- 데이터프레임을 정의할 때는 2차원 리스트를 매개변수로 전달"
   ]
  },
  {
   "cell_type": "code",
   "execution_count": 4,
   "id": "f7b1cb35",
   "metadata": {
    "scrolled": true
   },
   "outputs": [
    {
     "name": "stdout",
     "output_type": "stream",
     "text": [
      "    0   1   2\n",
      "0  10  20  30\n",
      "1  40  50  60\n",
      "2  70  80  90\n"
     ]
    }
   ],
   "source": [
    "import pandas as pd\n",
    "\n",
    "a = pd.DataFrame([\n",
    "    [10, 20, 30],\n",
    "    [40, 50, 60],\n",
    "    [70, 80, 90]\n",
    "])\n",
    "\n",
    "print (a)"
   ]
  },
  {
   "cell_type": "markdown",
   "id": "d7436376",
   "metadata": {},
   "source": [
    "- 1차원 데이터는 시리즈(Series)를 사용해 다룬다."
   ]
  },
  {
   "cell_type": "code",
   "execution_count": 6,
   "id": "65fcc181",
   "metadata": {
    "scrolled": true
   },
   "outputs": [
    {
     "name": "stdout",
     "output_type": "stream",
     "text": [
      "0    1.0\n",
      "1    3.0\n",
      "2    5.0\n",
      "3    7.0\n",
      "4    9.0\n",
      "dtype: float64\n"
     ]
    }
   ],
   "source": [
    "import pandas as pd, numpy as np\n",
    "\n",
    "s = pd.Series([1.0, 3.0, 5.0, 7.0, 9.0])\n",
    "print(s)"
   ]
  },
  {
   "cell_type": "markdown",
   "id": "d9fcbd97",
   "metadata": {},
   "source": [
    "### 원하는 데이터 추출하기\n",
    "1차원 리스트가 들어있는 딕셔너리 자료형의 데이터가 있을 때 키로 원하는 열의 데이터를 추출할 수 있다."
   ]
  },
  {
   "cell_type": "code",
   "execution_count": 14,
   "id": "7e53bc7f",
   "metadata": {
    "scrolled": true
   },
   "outputs": [
    {
     "name": "stdout",
     "output_type": "stream",
     "text": [
      "몸무게 목록\n",
      "0    80.0\n",
      "1    70.4\n",
      "2    65.5\n",
      "3    45.9\n",
      "4    51.2\n",
      "Name: weight, dtype: float64\n",
      "\n",
      "몸무게와 키 목록\n",
      "   weight  height\n",
      "0    80.0     170\n",
      "1    70.4     180\n",
      "2    65.5     155\n",
      "3    45.9     143\n",
      "4    51.2     154\n",
      "\n",
      "tbl[2:4]\n",
      "    weight  height type\n",
      "2    65.5     155    n\n",
      "3    45.9     143    t\n",
      "\n",
      "tbl[3:]\n",
      "    weight  height type\n",
      "3    45.9     143    t\n",
      "4    51.2     154    t\n",
      "\n",
      "--- height가 160 이상인 것\n",
      "   weight  height type\n",
      "0    80.0     170    f\n",
      "1    70.4     180    n\n",
      "\n",
      "--- type이 n 인 것\n",
      "   weight  height type\n",
      "1    70.4     180    n\n",
      "2    65.5     155    n\n"
     ]
    }
   ],
   "source": [
    "import pandas as pd\n",
    "\n",
    "# 키, 몸무게, 유형 데이터프레임 생성하기\n",
    "tbl = pd.DataFrame({\n",
    "    \"weight\": [80.0, 70.4, 65.5, 45.9, 51.2],\n",
    "    \"height\": [170, 180, 155, 143, 154],\n",
    "    \"type\": [\"f\", \"n\", \"n\", \"t\", \"t\"]\n",
    "})\n",
    "\n",
    "# 몸무게 목록 추출하기\n",
    "print(\"몸무게 목록\")\n",
    "print(tbl[\"weight\"])\n",
    "\n",
    "# 몸무게와 키 목록 추출하기\n",
    "print(\"\\n몸무게와 키 목록\")\n",
    "print(tbl[[\"weight\", \"height\"]])\n",
    "\n",
    "### 원하는 위치의 값을 추출할 때는 파이썬 리스트처럼 슬라이스를 사용\n",
    "# (0부터 세었을 때) 2~3번째 데이터 출력\n",
    "print(\"\\ntbl[2:4]\\n\", tbl[2:4])\n",
    "# (0부터 세었을 때) 3번째 이후의 데이터 출력하기\n",
    "print(\"\\ntbl[3:]\\n\", tbl[3:])\n",
    "\n",
    "### 원하는 조건의 값을 추출 가능\n",
    "print(\"\\n--- height가 160 이상인 것\")\n",
    "print(tbl[tbl.height >= 160])\n",
    "print(\"\\n--- type이 n 인 것\")\n",
    "print(tbl[tbl.type == \"n\"]) "
   ]
  },
  {
   "cell_type": "markdown",
   "id": "76b413a5",
   "metadata": {},
   "source": [
    "## 정렬과 반전\n",
    "### 정렬"
   ]
  },
  {
   "cell_type": "code",
   "execution_count": 16,
   "id": "ca425a29",
   "metadata": {},
   "outputs": [
    {
     "name": "stdout",
     "output_type": "stream",
     "text": [
      "--- 키로 정렬\n",
      "   weight  height type\n",
      "3    45.9     143    t\n",
      "4    51.2     154    t\n",
      "2    65.5     155    n\n",
      "0    80.0     170    f\n",
      "1    70.4     180    n\n",
      "\n",
      "--- 몸무게로 정렬\n",
      "   weight  height type\n",
      "0    80.0     170    f\n",
      "1    70.4     180    n\n",
      "2    65.5     155    n\n",
      "4    51.2     154    t\n",
      "3    45.9     143    t\n"
     ]
    }
   ],
   "source": [
    "import pandas as pd\n",
    "\n",
    "# 키, 몸무게, 유형 데이터프레임 생성하기\n",
    "tbl = pd.DataFrame({\n",
    "    \"weight\": [80.0, 70.4, 65.5, 45.9, 51.2],\n",
    "    \"height\": [170, 180, 155, 143, 154],\n",
    "    \"type\": [\"f\", \"n\", \"n\", \"t\", \"t\"]\n",
    "})\n",
    "\n",
    "print(\"--- 키로 정렬\")\n",
    "print(tbl.sort_values(by=\"height\"))\n",
    "print(\"\\n--- 몸무게로 정렬\")\n",
    "print(tbl.sort_values(by=\"weight\", ascending=False))"
   ]
  },
  {
   "cell_type": "markdown",
   "id": "597bcfca",
   "metadata": {},
   "source": [
    "### 반전"
   ]
  },
  {
   "cell_type": "code",
   "execution_count": 18,
   "id": "7c736518",
   "metadata": {},
   "outputs": [
    {
     "name": "stdout",
     "output_type": "stream",
     "text": [
      "   0  1  2\n",
      "0  A  B  C\n",
      "1  D  E  F\n",
      "2  G  H  I\n",
      "---\n",
      "   0  1  2\n",
      "0  A  D  G\n",
      "1  B  E  H\n",
      "2  C  F  I\n"
     ]
    }
   ],
   "source": [
    "import pandas as pd\n",
    "\n",
    "tbl = pd.DataFrame([\n",
    "    [\"A\", \"B\", \"C\"],\n",
    "    [\"D\", \"E\", \"F\"],\n",
    "    [\"G\", \"H\", \"I\"]\n",
    "])\n",
    "\n",
    "print(tbl)\n",
    "print(\"---\")\n",
    "print(tbl.T)"
   ]
  },
  {
   "cell_type": "markdown",
   "id": "9b356bf8",
   "metadata": {},
   "source": [
    "## 데이터 조작\n",
    "Numpy를 이용하면 여러 데이터에 한꺼번에 조작을 가할 수 있다."
   ]
  },
  {
   "cell_type": "code",
   "execution_count": 22,
   "id": "58ea9dd7",
   "metadata": {
    "scrolled": true
   },
   "outputs": [
    {
     "name": "stdout",
     "output_type": "stream",
     "text": [
      "[0. 0. 0. 0. 0. 0. 0. 0. 0. 0.]\n",
      "[0 1 2 3 4 5 6 7 8 9]\n",
      "[ 0  3  6  9 12 15 18 21 24 27]\n",
      "13.5\n"
     ]
    }
   ],
   "source": [
    "import numpy as np\n",
    "\n",
    "# 10개의 float32 자료형 데이터 생성\n",
    "v = np.zeros(10, dtype=np.float32)\n",
    "print(v)\n",
    "\n",
    "# 연속된 10개의 uint64 자료형 데이터 생성\n",
    "v = np.arange(10, dtype=np.uint64)\n",
    "print(v)\n",
    "\n",
    "# v 값을 3배하기\n",
    "v *= 3\n",
    "print(v)\n",
    "\n",
    "# v의 평균 구하기\n",
    "print(v.mean())"
   ]
  },
  {
   "cell_type": "code",
   "execution_count": 27,
   "id": "1fdabab2",
   "metadata": {},
   "outputs": [
    {
     "name": "stdout",
     "output_type": "stream",
     "text": [
      "weight = 45.9  ~  80.0\n",
      "height = 143  ~  180\n",
      "     weight    height gender\n",
      "0  1.000000  0.729730      f\n",
      "1  0.718475  1.000000      m\n",
      "2  0.574780  0.324324      m\n",
      "3  0.000000  0.000000      f\n",
      "4  0.155425  0.297297      f\n",
      "5  0.780059  0.459459      m\n",
      "<class 'numpy.ndarray'>\n"
     ]
    }
   ],
   "source": [
    "import pandas as pd\n",
    "\n",
    "# 키, 몸무게, 유형 데이터프레임 생성하기\n",
    "tbl = pd.DataFrame({\n",
    "    \"weight\": [80.0, 70.4, 65.5, 45.9, 51.2, 72.5],\n",
    "    \"height\": [170, 180, 155, 143, 154, 160],\n",
    "    \"gender\": [\"f\", \"m\", \"m\", \"f\", \"f\", \"m\"]\n",
    "})\n",
    "\n",
    "# 키와 몸무게 정규화하기\n",
    "# 최댓값과 최솟값 구하기\n",
    "def norm(tbl, key):\n",
    "    c = tbl[key]\n",
    "    v_max = c.max()\n",
    "    v_min = c.min()\n",
    "    print(key, \"=\", v_min, \" ~ \", v_max)\n",
    "    tbl[key] = (c - v_min) / (v_max - v_min)\n",
    "\n",
    "norm(tbl, \"weight\")\n",
    "norm(tbl, \"height\")\n",
    "print(tbl)\n",
    "\n",
    "### NumPy로 변환 -> 머신러닝 라이브러리에 따라 Pandas의 DataFrame을 지원하지 않은 경우도 존재 -> 이런 경우 NumPy형식으로 변환\n",
    "n = tbl.values\n",
    "print(type(n))"
   ]
  }
 ],
 "metadata": {
  "kernelspec": {
   "display_name": "Python 3",
   "language": "python",
   "name": "python3"
  },
  "language_info": {
   "codemirror_mode": {
    "name": "ipython",
    "version": 3
   },
   "file_extension": ".py",
   "mimetype": "text/x-python",
   "name": "python",
   "nbconvert_exporter": "python",
   "pygments_lexer": "ipython3",
   "version": "3.8.11"
  }
 },
 "nbformat": 4,
 "nbformat_minor": 5
}

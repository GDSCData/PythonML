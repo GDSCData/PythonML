{
 "cells": [
  {
   "cell_type": "markdown",
   "id": "589527a1",
   "metadata": {},
   "source": [
    "# Keras\n",
    "머신러닝 라이브러리 Theano와 TensorFlow를 래핑(Wrapping)한 라이브러리입니다.\n",
    "- Keras는 백엔드로 TensorFlow와 Theano 등을 사용하며, 다양한 알고리즘으로 머신러닝 프로그램을 만들 수 있게 해줌.\n",
    "- Keras를 이용하면 귀찮은 처리 내용을 따로 작성 x\n",
    "- 머신러닝과 관련된 부분에만 집중해서 프로그램 작성 가능\n",
    "- Keras로 작성한 프로그램은 별도의 수정 없이 TensorFlow와 Theano를 바꿔 사용 가능"
   ]
  },
  {
   "cell_type": "markdown",
   "id": "3aea792c",
   "metadata": {},
   "source": [
    "### Keras로 MNIST 테스트 해보기\n",
    "- TensorFlow에 비해 굉장히 깔끔하다."
   ]
  },
  {
   "cell_type": "code",
   "execution_count": 14,
   "id": "e8a9a51a",
   "metadata": {},
   "outputs": [
    {
     "name": "stderr",
     "output_type": "stream",
     "text": [
      "2021-12-22 13:54:59.734598: W tensorflow/core/platform/profile_utils/cpu_utils.cc:128] Failed to get CPU frequency: 0 Hz\n",
      "2021-12-22 13:54:59.860843: I tensorflow/core/grappler/optimizers/custom_graph_optimizer_registry.cc:112] Plugin optimizer for device_type GPU is enabled.\n"
     ]
    },
    {
     "name": "stdout",
     "output_type": "stream",
     "text": [
      "1875/1875 [==============================] - 12s 5ms/step - loss: 0.2151 - accuracy: 0.9348\n",
      " 23/313 [=>............................] - ETA: 1s - loss: 0.0929 - accuracy: 0.9688"
     ]
    },
    {
     "name": "stderr",
     "output_type": "stream",
     "text": [
      "2021-12-22 13:55:11.507699: I tensorflow/core/grappler/optimizers/custom_graph_optimizer_registry.cc:112] Plugin optimizer for device_type GPU is enabled.\n"
     ]
    },
    {
     "name": "stdout",
     "output_type": "stream",
     "text": [
      "313/313 [==============================] - 2s 5ms/step - loss: 0.1109 - accuracy: 0.9674\n",
      "loss =  0.1109003946185112\n",
      "accuracy =  0.967400074005127\n"
     ]
    }
   ],
   "source": [
    "from keras.datasets import mnist\n",
    "from keras.models import Sequential\n",
    "from keras.layers.core import Dense, Dropout, Activation\n",
    "from tensorflow.keras.optimizers import Adam\n",
    "from keras.utils import np_utils\n",
    "\n",
    "# MNIST 데이터 읽어 들이기\n",
    "(X_train, y_train), (X_test, y_test) = mnist.load_data()\n",
    "# 데이터를 float32 자료형으로 변환하고 정규화하기\n",
    "X_train = X_train.reshape(60000, 784).astype('float32')\n",
    "X_test = X_test.reshape(10000, 784).astype('float')\n",
    "X_train /= 255\n",
    "X_test /= 255\n",
    "\n",
    "# 레이블 데이터를 0-9까지의 카테고리를 나타내는 배열로 변환하기\n",
    "y_train = np_utils.to_categorical(y_train, 10) # np_utils.to_categorical() 를 사용하여 10차원 배열로 변환\n",
    "y_test = np_utils.to_categorical(y_test, 10)\n",
    "\n",
    "# 모델 구조 정의하기\n",
    "# 시퀀셜(직선적)으로 딥러닝의 각 층을 add() 메서드로 추가\n",
    "model = Sequential()\n",
    "model.add(Dense(512, input_shape = (784,)))\n",
    "model.add(Activation('relu'))\n",
    "model.add(Dropout(0.2))\n",
    "model.add(Dense(512))\n",
    "model.add(Activation('relu'))\n",
    "model.add(Dropout(0.2))\n",
    "model.add(Dense(10))\n",
    "model.add(Activation('softmax'))\n",
    "\n",
    "# 모델 구축하기\n",
    "# compile() 메서드로 모델을 구축\n",
    "# loss 로 최적화 함수를 지정할 수 있다.\n",
    "model.compile(\n",
    "    loss = 'categorical_crossentropy',\n",
    "    optimizer = Adam(),\n",
    "    metrics = ['accuracy'])\n",
    "\n",
    "# 데이터 훈련하기\n",
    "# fit 메서드로 모델에 데이터를 학습시킨다.\n",
    "hist = model.fit(X_train, y_train)\n",
    "\n",
    "# 테스트 데이터로 평가하기\n",
    "score = model.evaluate(X_test, y_test, verbose = 1)\n",
    "print('loss = ', score[0])\n",
    "print('accuracy = ', score[1])"
   ]
  },
  {
   "cell_type": "markdown",
   "id": "9afa800d",
   "metadata": {},
   "source": [
    "### Keras로 비만도 판정하기"
   ]
  },
  {
   "cell_type": "code",
   "execution_count": 20,
   "id": "8e5d0493",
   "metadata": {},
   "outputs": [
    {
     "name": "stdout",
     "output_type": "stream",
     "text": [
      "Epoch 1/20\n"
     ]
    },
    {
     "name": "stderr",
     "output_type": "stream",
     "text": [
      "2021-12-22 14:21:07.691967: I tensorflow/core/grappler/optimizers/custom_graph_optimizer_registry.cc:112] Plugin optimizer for device_type GPU is enabled.\n"
     ]
    },
    {
     "name": "stdout",
     "output_type": "stream",
     "text": [
      "135/135 [==============================] - 1s 7ms/step - loss: 0.4861 - accuracy: 0.8068 - val_loss: 0.2616 - val_accuracy: 0.9087\n",
      "Epoch 2/20\n",
      " 19/135 [===>..........................] - ETA: 0s - loss: 0.2890 - accuracy: 0.8884"
     ]
    },
    {
     "name": "stderr",
     "output_type": "stream",
     "text": [
      "2021-12-22 14:21:08.982154: I tensorflow/core/grappler/optimizers/custom_graph_optimizer_registry.cc:112] Plugin optimizer for device_type GPU is enabled.\n"
     ]
    },
    {
     "name": "stdout",
     "output_type": "stream",
     "text": [
      "135/135 [==============================] - 1s 6ms/step - loss: 0.2411 - accuracy: 0.9051 - val_loss: 0.1589 - val_accuracy: 0.9587\n",
      "Epoch 3/20\n",
      "135/135 [==============================] - 1s 6ms/step - loss: 0.1833 - accuracy: 0.9240 - val_loss: 0.1199 - val_accuracy: 0.9693\n",
      "Epoch 4/20\n",
      "135/135 [==============================] - 1s 6ms/step - loss: 0.1600 - accuracy: 0.9318 - val_loss: 0.2123 - val_accuracy: 0.8793\n",
      "Epoch 5/20\n",
      "135/135 [==============================] - 1s 6ms/step - loss: 0.1505 - accuracy: 0.9355 - val_loss: 0.1613 - val_accuracy: 0.9167\n",
      " 33/157 [=====>........................] - ETA: 0s - loss: 0.1627 - accuracy: 0.9157"
     ]
    },
    {
     "name": "stderr",
     "output_type": "stream",
     "text": [
      "2021-12-22 14:21:12.494857: I tensorflow/core/grappler/optimizers/custom_graph_optimizer_registry.cc:112] Plugin optimizer for device_type GPU is enabled.\n"
     ]
    },
    {
     "name": "stdout",
     "output_type": "stream",
     "text": [
      "157/157 [==============================] - 1s 5ms/step - loss: 0.1556 - accuracy: 0.9216\n",
      "loss =  0.15561571717262268\n",
      "accuracy =  0.9215843677520752\n"
     ]
    }
   ],
   "source": [
    "from keras.models import Sequential\n",
    "from keras.layers.core import Dense, Dropout, Activation\n",
    "from keras.callbacks import EarlyStopping\n",
    "import pandas as pd, numpy as np\n",
    "\n",
    "# BMI 데이터를 읽어 들이고 정규화하기\n",
    "csv = pd.read_csv('../chapter_04/bmi.csv')\n",
    "# 몸무게와 키 데이터\n",
    "csv['weight'] /= 100\n",
    "csv['height'] /= 200\n",
    "X = csv[['weight', 'height']]\n",
    "# 레이블\n",
    "bclass = {'thin':[1,0,0], 'normal':[0,1,0], 'fat':[0,0,1]}\n",
    "y = np.empty((20000, 3))\n",
    "for i, v in enumerate(csv['label']):\n",
    "    y[i] = bclass[v]\n",
    "\n",
    "# 훈련 전용 데이터와 테스트 전용 데이터로 나누기\n",
    "X_train, y_train = X[1:15001], y[1:15001]\n",
    "X_test, y_test = X[15001:20001], y[15001:20001]\n",
    "\n",
    "# 모델 구조 정의하기\n",
    "model = Sequential()\n",
    "model.add(Dense(512, input_shape = (2,)))\n",
    "model.add(Activation('relu'))\n",
    "model.add(Dropout(0.1))\n",
    "\n",
    "model.add(Dense(512))\n",
    "model.add(Activation('relu'))\n",
    "model.add(Dropout(0.1))\n",
    "model.add(Dense(3))\n",
    "model.add(Activation('softmax'))\n",
    "\n",
    "# 모델 구축하기\n",
    "model.compile(\n",
    "    loss = 'categorical_crossentropy',\n",
    "    optimizer = 'rmsprop',\n",
    "    metrics = ['accuracy'])\n",
    "\n",
    "# 데이터 훈련하기\n",
    "hist = model.fit(\n",
    "    X_train, y_train,\n",
    "    batch_size = 100,\n",
    "    epochs = 20,\n",
    "    validation_split = 0.1,\n",
    "    callbacks = [EarlyStopping(monitor = 'val_loss', patience = 2)],\n",
    "    verbose = 1)\n",
    "\n",
    "# 테스트 데이터로 평가하기\n",
    "score = model.evaluate(X_test, y_test)\n",
    "print('loss = ', score[0])\n",
    "print('accuracy = ', score[1])"
   ]
  }
 ],
 "metadata": {
  "kernelspec": {
   "display_name": "Python 3 (ipykernel)",
   "language": "python",
   "name": "python3"
  },
  "language_info": {
   "codemirror_mode": {
    "name": "ipython",
    "version": 3
   },
   "file_extension": ".py",
   "mimetype": "text/x-python",
   "name": "python",
   "nbconvert_exporter": "python",
   "pygments_lexer": "ipython3",
   "version": "3.8.11"
  }
 },
 "nbformat": 4,
 "nbformat_minor": 5
}

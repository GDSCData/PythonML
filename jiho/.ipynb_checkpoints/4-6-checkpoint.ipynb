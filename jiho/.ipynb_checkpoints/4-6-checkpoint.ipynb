{
 "cells": [
  {
   "cell_type": "markdown",
   "id": "60a80089",
   "metadata": {},
   "source": [
    "# 랜덤 포레스트\n",
    "학습 전용 데이터를 샘플링해서 여러 개의 의사결정 트리를 만들고, 만들어진 의사결정 트리를 기반으로 다수결로 결과를 결정하는 방법. -> 높은 정밀도 <br>\n",
    "집단 학습을 기반으로 고정밀 분류, 회귀, 클러스터링 등을 구현하는 머신러닝 알고리즘. <br>\n",
    "* 의사결정 트리: 트리 구조를 하고 있는 그래프로 예측과 분류를 수행하는 알고리즘 <br>\n",
    "일반적으로 부정확한 학습 방법이라 약학습 방법으로 분류되지만 집단 학습을 하면 정밀도를 굉장히 높일 수 있다.\n",
    "<img src=\"img/img2.jpeg\" alt=\"Scatter\" style=\"width: 600px; height: 300px\"/><br>"
   ]
  },
  {
   "cell_type": "markdown",
   "id": "f7c55a4c",
   "metadata": {},
   "source": [
    "## 랜덤 포레스트 사용하기\n",
    "* 데이터 세트: 버섯의 특징을 기반으로 독의 유무를 판정하기 위한 것\n",
    "\n",
    "### 버섯 데이터 세트 내려받고 CSV 형식으로 파일 저장하기"
   ]
  },
  {
   "cell_type": "code",
   "execution_count": 1,
   "id": "8e7b57aa",
   "metadata": {},
   "outputs": [
    {
     "name": "stdout",
     "output_type": "stream",
     "text": [
      "ok!!\n"
     ]
    }
   ],
   "source": [
    "import urllib.request as req\n",
    "\n",
    "local = \"mushroom.csv\"\n",
    "url = \"https://archive.ics.uci.edu/ml/machine-learning-databases/mushroom/agaricus-lepiota.data\"\n",
    "req.urlretrieve(url, local)\n",
    "print(\"ok!!\")"
   ]
  },
  {
   "cell_type": "markdown",
   "id": "32ca3574",
   "metadata": {},
   "source": [
    "### 랜덤 포레스트를 사용해 버섯을 분류하는 프로그램"
   ]
  },
  {
   "cell_type": "code",
   "execution_count": 7,
   "id": "eac85366",
   "metadata": {},
   "outputs": [
    {
     "name": "stdout",
     "output_type": "stream",
     "text": [
      "정답률 = 1.0\n",
      "리포트 =\n",
      "               precision    recall  f1-score   support\n",
      "\n",
      "           e       1.00      1.00      1.00      1069\n",
      "           p       1.00      1.00      1.00       962\n",
      "\n",
      "    accuracy                           1.00      2031\n",
      "   macro avg       1.00      1.00      1.00      2031\n",
      "weighted avg       1.00      1.00      1.00      2031\n",
      "\n"
     ]
    }
   ],
   "source": [
    "import pandas as pd\n",
    "from sklearn.ensemble import RandomForestClassifier\n",
    "from sklearn import metrics\n",
    "from sklearn.model_selection import train_test_split\n",
    "\n",
    "# 데이터 읽어 들이기\n",
    "mr = pd.read_csv(\"mushroom.csv\", header=None)\n",
    "\n",
    "# 데이터 내부의 기호를 숫자로 변환하기\n",
    "label = []\n",
    "data = []\n",
    "attr_list = []\n",
    "\n",
    "for row_index, row in mr.iterrows(): # Q) iterrows() ?\n",
    "    label.append(row.loc[0]) # Q) ix[]: pandas 0.20?부터 사라짐\n",
    "    row_data = []\n",
    "    for v in row.loc[1:]:\n",
    "        row_data.append(ord(v))\n",
    "    data.append(row_data)\n",
    "\n",
    "# 학습 전용과 테스트 전용 데이터로 나누기\n",
    "data_train, data_test, label_train, label_test = \\\n",
    "    train_test_split(data, label)\n",
    "\n",
    "# 데이터 학습시키기\n",
    "clf = RandomForestClassifier()\n",
    "clf.fit(data_train, label_train)\n",
    "\n",
    "# 데이터 예측하기\n",
    "predict = clf.predict(data_test)\n",
    "\n",
    "# 결과 테스트하기\n",
    "ac_score = metrics.accuracy_score(label_test, predict)\n",
    "cl_report = metrics.classification_report(label_test, predict)\n",
    "print(\"정답률 =\", ac_score)\n",
    "print(\"리포트 =\\n\", cl_report)"
   ]
  },
  {
   "cell_type": "markdown",
   "id": "38a1edda",
   "metadata": {},
   "source": [
    "### Pandas iterrows() : 행에 대해 순환 반복\n",
    "첫번째 변수 row_index에 인덱스를 받고, member는 member 열의 행에 하나씩 접근하여 출력\n",
    "```python\n",
    "df = pd.DataFrame(\n",
    "    {'price': [100, 200, 300],\n",
    "     'weight': [20.3, 15.1, 25.9]},\n",
    "    index=['idx_a', 'idx_b', 'idx_c'])\n",
    "\n",
    ">>>\n",
    "        price weight\n",
    "idx_a\t 100   20.3\n",
    "idx_b\t 200   15.1\n",
    "idx_c\t 300   25.9\n",
    "\n",
    "## DataFrame.iterrows()\n",
    "for idx, row in df.iterrows():\n",
    "    print(\"** index name:\", idx)\n",
    "    print(row)\n",
    "    print(\"------\"*5)\n",
    "    \n",
    ">>>\n",
    "[Output]\n",
    "** index name: idx_a\n",
    "price     100.0\n",
    "weight     20.3\n",
    "Name: idx_a, dtype: float64\n",
    "------------------------------\n",
    "** index name: idx_b\n",
    "price     200.0\n",
    "weight     15.1\n",
    "Name: idx_b, dtype: float64\n",
    "------------------------------\n",
    "** index name: idx_c\n",
    "price     300.0\n",
    "weight     25.9\n",
    "Name: idx_c, dtype: float64\n",
    "------------------------------\n",
    "\n",
    "## accessing to column of each rows by indexing\n",
    "for idx, row in df.iterrows():\n",
    "    print(idx)\n",
    "    print(row['price']) # or print(row[0])\n",
    "    print(\"-----\")\n",
    " \n",
    ">>>\n",
    "[Output]\n",
    "idx_a\n",
    "100.0\n",
    "-----\n",
    "idx_b\n",
    "200.0\n",
    "-----\n",
    "idx_c\n",
    "300.0\n",
    "-----\n",
    "\n",
    "# 출처: https://rfriend.tistory.com/601 [R, Python 분석과 프로그래밍의 친구 (by R Friend)]\n",
    "```"
   ]
  }
 ],
 "metadata": {
  "kernelspec": {
   "display_name": "Python 3",
   "language": "python",
   "name": "python3"
  },
  "language_info": {
   "codemirror_mode": {
    "name": "ipython",
    "version": 3
   },
   "file_extension": ".py",
   "mimetype": "text/x-python",
   "name": "python",
   "nbconvert_exporter": "python",
   "pygments_lexer": "ipython3",
   "version": "3.8.11"
  }
 },
 "nbformat": 4,
 "nbformat_minor": 5
}

{
 "cells": [
  {
   "cell_type": "markdown",
   "id": "5de4d781",
   "metadata": {},
   "source": [
    "# XOR 연산 학습하기"
   ]
  },
  {
   "cell_type": "code",
   "execution_count": 1,
   "id": "46f45e4d",
   "metadata": {},
   "outputs": [
    {
     "name": "stdout",
     "output_type": "stream",
     "text": [
      " 예측결과: [0 1 0 0]\n",
      "정답률: 4 / 4 = 1.0\n"
     ]
    }
   ],
   "source": [
    "from sklearn import svm\n",
    "\n",
    "# XOR의 계산 결과 데이터\n",
    "xor_data = [\n",
    "    # P, Q, Result\n",
    "    [0, 0, 0],\n",
    "    [0, 1, 1],\n",
    "    [1, 0, 0],\n",
    "    [1, 1, 0]\n",
    "]\n",
    "\n",
    "# 학습을 위해 데이터와 레이블 분리하기 -> fit() 메서드의 매개변수를 맞추기 위함\n",
    "data = [] # 학습시키기 위한 데이터 변수\n",
    "label = [] # 정답 레이블 변수\n",
    "for row in xor_data:\n",
    "    p = row[0]\n",
    "    q = row[1]\n",
    "    r = row[2]\n",
    "    data.append([p, q])\n",
    "    label.append(r)\n",
    "\n",
    "# 데이터 학습시키기\n",
    "clf = svm.SVC() # SVM 객체 생성\n",
    "# fit() 메서드를 사용해 데이터를 학습\n",
    "clf.fit(data, label) # 첫 번째 매개변수로 학습할 데이터 배열, 두 번째 매개변수로 정답 레이블 배열을 전달\n",
    "\n",
    "# 데이터 예측하기\n",
    "pre = clf.predict(data) # 예측하고 싶은 데이터 배열을 전달하면 데이터 수만큼 예측 결과를 리턴\n",
    "print(\" 예측결과:\", pre)\n",
    "\n",
    "# 결과 확인하기\n",
    "ok = 0; total = 0\n",
    "for index, answer in enumerate(label):\n",
    "    p = pre[index]\n",
    "    if p == answer: ok += 1\n",
    "    total += 1\n",
    "print(\"정답률:\", ok, \"/\", total, \"=\", ok/total)"
   ]
  },
  {
   "cell_type": "markdown",
   "id": "09d803bd",
   "metadata": {},
   "source": [
    "## 프레임워크로 프로그램 간단하게 작성하기\n",
    "#### scikit-learn 에는 데이터와 레이블을 나누고, 정답률을 간단하게 계산해주는 기능이 있다.\n",
    "- Pandas DataFrame(), loc[]\n",
    "- metrics.accuracy_score()"
   ]
  },
  {
   "cell_type": "code",
   "execution_count": 3,
   "id": "ba148345",
   "metadata": {},
   "outputs": [
    {
     "name": "stdout",
     "output_type": "stream",
     "text": [
      "정답률 =  1.0\n"
     ]
    }
   ],
   "source": [
    "import pandas as pd\n",
    "from sklearn import svm, metrics\n",
    "\n",
    "# XOR 연산\n",
    "xor_input = [\n",
    "    # P, Q, Result\n",
    "    [0, 0, 0],\n",
    "    [0, 1, 1],\n",
    "    [1, 0, 0],\n",
    "    [1, 1, 0]\n",
    "]\n",
    "\n",
    "# 입력을 학습 전용 데이터와 테스트 전용 데이터로 분류\n",
    "xor_df = pd.DataFrame(xor_input)\n",
    "xor_data = xor_df.loc[:,0:1] # 데이터\n",
    "xor_label = xor_df.loc[:,2] # 레이블\n",
    "\n",
    "# 데이터 학습과 예측하기\n",
    "clf = svm.SVC()\n",
    "clf.fit(xor_data, xor_label)\n",
    "pre = clf.predict(xor_data)\n",
    "\n",
    "# 정답률 구하기\n",
    "ac_score = metrics.accuracy_score(xor_label, pre)\n",
    "print(\"정답률 = \", ac_score)"
   ]
  },
  {
   "cell_type": "markdown",
   "id": "ff57d8fd",
   "metadata": {},
   "source": [
    "### Pandas loc[] 로 열 조회하기\n",
    "- 모든 행은 : 로 표시하고 쉼표(,)를 입력하고 열명을 입력하면 해당 열만 가져온다."
   ]
  },
  {
   "cell_type": "code",
   "execution_count": 4,
   "id": "5549d7e9",
   "metadata": {},
   "outputs": [],
   "source": [
    "import pandas as pd\n",
    "\n",
    "data = [\n",
    "    [100, 25, 10],\n",
    "    [200, 20, 11],\n",
    "    [300, 15, 12],\n",
    "    [350, 16, 13],\n",
    "    [320, 17, 12]\n",
    "]\n",
    "\n",
    "df = pd.DataFrame(data, \n",
    "                  index=['1월', '2월', '3월', '4월', '5월'], \n",
    "                  columns=['매출액', '영업이익', '순이익'])\n",
    "# display(df) # 예쁘게 보여줌ㅋ\n",
    "\n",
    "df.loc[:,'매출액'] # 배열 형태가 아닌 값을 입력하면 1차원 시리즈 형태가 리턴\n",
    "df.loc[:,['매출액']] # 배열 형태로 열명을 입력하면 2차원 데이터프레임 형태가 리턴\n",
    "df.loc[:, df.columns != '매출액'] # 특정 열(=컬럼)만 제외 가능 -> 매출액을 제외한 나머지 열을 모두 리턴\n",
    "df.loc[:,'매출액':'순이익'] # 인덱싱으로 매출액 컬럼부터 연속해서 순이익컬럼까지의 열 리턴\n",
    "df.loc[:,[False, True, True]] # 열 개수와 동일한 True/False의 배열을 지정해 True인 열만 리턴"
   ]
  },
  {
   "cell_type": "markdown",
   "id": "8c2de965",
   "metadata": {},
   "source": [
    "# 머신러닝으로 붓꽃의 품종 분류하기\n",
    "CSV 파일에는 150개의 데이터 중 100개는 학습을 위해 사용, 50개는 테스트를 위해 사용"
   ]
  },
  {
   "cell_type": "code",
   "execution_count": 6,
   "id": "5358d7ad",
   "metadata": {
    "lines_to_next_cell": 0
   },
   "outputs": [
    {
     "name": "stdout",
     "output_type": "stream",
     "text": [
      "정답률 =  0.96\n"
     ]
    }
   ],
   "source": [
    "from sklearn import svm, metrics\n",
    "import random, re\n",
    "\n",
    "# 붓꽃의 CSV 데이터 읽기\n",
    "csv = []\n",
    "with open('iris.csv', 'r', encoding='utf-8') as fp:\n",
    "    # 한 줄씩 읽어 들이기\n",
    "    for line in fp:\n",
    "        line = line.strip() # 줄바꿈 제거\n",
    "        cols = line.split(',') # 쉼표로 자르기\n",
    "        # 문자열 데이터를 숫자로 변환\n",
    "        fn = lambda n : float(n) if re.match(r'^[0-9\\.]+$', n) else n\n",
    "        cols = list(map(fn, cols))\n",
    "        csv.append(cols)\n",
    "\n",
    "# 가장 앞 줄의 헤더 제거\n",
    "del csv[0]\n",
    "\n",
    "# 데이터 셔플하기(섞기) => 왜?\n",
    "random.shuffle(csv)\n",
    "\n",
    "# 학습 전용 데이터와 테스트 전용 데이터 분할하기(2:1 비율)\n",
    "total_len = len(csv)\n",
    "train_len = int(total_len * 2 / 3)\n",
    "train_data = []\n",
    "train_label = []\n",
    "test_data = []\n",
    "test_label = []\n",
    "\n",
    "for i in range(total_len):\n",
    "    data = csv[i][0:3] # 데이터\n",
    "    label = csv[i][4] # 레이블\n",
    "    if i < train_len:\n",
    "        train_data.append(data)\n",
    "        train_label.append(label)\n",
    "    else:\n",
    "        test_data.append(data)\n",
    "        test_label.append(label)\n",
    "\n",
    "# 데이터를 학습시키고 예측하기\n",
    "clf = svm.SVC()\n",
    "clf.fit(train_data, train_label)\n",
    "pre = clf.predict(test_data)\n",
    "\n",
    "# 정답률 구하기\n",
    "ac_score = metrics.accuracy_score(test_label, pre)\n",
    "print(\"정답률 = \", ac_score)"
   ]
  },
  {
   "cell_type": "markdown",
   "id": "dfe29ca2",
   "metadata": {},
   "source": [
    "### 정규표현식, r'' 의 의미\n",
    "파이썬 정규식에는 Raw String 이라 해서, 컴파일 해야 하는 정규식이 Raw String(순수한 문자)임을 알려주도록 한다.\n",
    "```python \n",
    "p = re.compile('\\number')\n",
    "```\n",
    "위의 경우 \\n 줄바꿈 문자를 의미하는 [ \\t\\n\\r\\f\\v]이 되어버려 원하는 결과를 찾지 못한다. \n",
    "방법 2가지\n",
    "1. \\\\number\n",
    "2. r'\\number' => r 을 사용하여 백슬래쉬(\\) 1개만 써도 2개를 쓴 것과 같은 효과를 갖는다.\n",
    "\n",
    "### 정규표현식, $ 의 의미\n",
    "\n",
    "문자열이 $의 앞에 있는 문자로 끝나면 매치된다. 여러 줄의 문자열일 경우 마지막 줄만 적용\n",
    "\n",
    "a$\n",
    "- a # 매치\n",
    "- baa # 매치\n",
    "- aabb # 매치안됨"
   ]
  },
  {
   "cell_type": "code",
   "execution_count": null,
   "id": "1abc2873",
   "metadata": {
    "lines_to_next_cell": 2
   },
   "outputs": [],
   "source": []
  }
 ],
 "metadata": {
  "jupytext": {
   "encoding": "# -*- coding: utf-8 -*-",
   "formats": "ipynb,py:light"
  },
  "kernelspec": {
   "display_name": "Python 3",
   "language": "python",
   "name": "python3"
  },
  "language_info": {
   "codemirror_mode": {
    "name": "ipython",
    "version": 3
   },
   "file_extension": ".py",
   "mimetype": "text/x-python",
   "name": "python",
   "nbconvert_exporter": "python",
   "pygments_lexer": "ipython3",
   "version": "3.8.11"
  }
 },
 "nbformat": 4,
 "nbformat_minor": 5
}

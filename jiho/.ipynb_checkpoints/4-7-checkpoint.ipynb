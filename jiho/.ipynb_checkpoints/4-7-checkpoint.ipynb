{
 "cells": [
  {
   "cell_type": "markdown",
   "id": "8ed79689",
   "metadata": {},
   "source": [
    "# 데이터를 검증하는 방법\n",
    "## 크로스 밸리데이션(Cross - Valildation) (교차 검증)\n",
    ": 특정 데이터를 훈련 전용 데이터와 테스트 전용 데이터로 분할한 뒤 훈련 데이터를 학습하고, 테스트 데이터로 테스트해서 학습의 타당성을 검증하는 방법\n",
    "\n",
    "### K 분할 교차 검증 (K - fold cross validation) -> 크로스 밸리데이션의 여러 방법 중 한 방법\n",
    "1. 집합 X를 A, B, C로 분할\n",
    "2. A를 테스트 전용 데이터, 나머지 B/C를 훈련 전용 데이터로 사용해 분류 정밀도 s1을 구한다.\n",
    "3. B를 테스트 전용 데이터, 나머지 A/C를 훈련 전용 데이터로 사용해 분류 정밀도 s2를 구한다.\n",
    "4. C를 테스트 전용 데이터, 나머지 A/B를 훈련 전용 데이터로 사용해 분류 정밀도 s3를 구한다.\n",
    "5. 분류 정밀도 s1, s2, s3의 평균을 구해 최종적인 분류 정밀도를 구한다."
   ]
  },
  {
   "cell_type": "markdown",
   "id": "a7e35d24",
   "metadata": {},
   "source": [
    "### 크로스 밸리데이션 사용해보기\n",
    "* 붓꽃 데이터(iris.csv) 사용"
   ]
  },
  {
   "cell_type": "code",
   "execution_count": 2,
   "id": "7d7fd731",
   "metadata": {},
   "outputs": [
    {
     "name": "stdout",
     "output_type": "stream",
     "text": [
      "각각의 정답률 =  [0.9666666666666667, 0.9333333333333333, 1.0, 1.0, 0.9]\n",
      "평균 정답률 =  0.96\n"
     ]
    }
   ],
   "source": [
    "from sklearn import svm, metrics\n",
    "import random, re\n",
    "\n",
    "# 붓꽃의 CSV 파일 읽어 들이기\n",
    "lines = open('iris.csv', 'r', encoding='utf-8').read().split(\"\\n\")\n",
    "f_tonum = lambda n : float(n) if re.match(r'^[0-9\\.]+$', n) else n # Q) 정규표현식 \n",
    "f_cols = lambda li : list(map(f_tonum, li.strip().split(',')))\n",
    "csv = list(map(f_cols, lines))\n",
    "del csv[0] # 헤더 제거하기\n",
    "random.shuffle(csv) # 데이터 섞기\n",
    "\n",
    "# 데이터를 K개로 분할하기\n",
    "K = 5\n",
    "csvk = [ [] for i in range(K) ]\n",
    "for i in range(len(csv)):\n",
    "    csvk[i % K].append(csv[i])\n",
    "    \n",
    "# 리스트를 훈련 전용 데이터와 테스트 전용 데이터로 분할하는 함수\n",
    "def split_data_label(rows):\n",
    "    data = []; label = []\n",
    "    for row in rows:\n",
    "        data.append(row[0:4])\n",
    "        label.append(row[4])\n",
    "    return (data, label)\n",
    "\n",
    "# 테스트 전용 데이터와 훈련 전용 데이터를 매개변수로 전달하면 이를 기반으로 정답률 구하기\n",
    "def calc_score(test, train):\n",
    "    test_f, test_l = split_data_label(test)\n",
    "    train_f, train_l = split_data_label(train)\n",
    "    # 학습시키고 정답률 구하기\n",
    "    clf = svm.SVC()\n",
    "    clf.fit(train_f, train_l)\n",
    "    pre = clf.predict(test_f)\n",
    "    return metrics.accuracy_score(test_l, pre)\n",
    "\n",
    "# K개로 분할한 데이터에 반복을 적용해서 하나하나 테스트\n",
    "# K개로 분할해서 정답률 구하기\n",
    "score_list = []\n",
    "for testc in csvk:\n",
    "    # testc 이외의 데이터를 훈련 전용 데이터로 사용하기\n",
    "    trainc = []\n",
    "    for i in csvk:\n",
    "        if i != testc: trainc += i\n",
    "    sc = calc_score(testc, trainc)\n",
    "    score_list.append(sc)\n",
    "\n",
    "print(\"각각의 정답률 = \", score_list)\n",
    "print(\"평균 정답률 = \", sum(score_list) / len(score_list))"
   ]
  },
  {
   "cell_type": "markdown",
   "id": "d3aa8ea9",
   "metadata": {},
   "source": [
    "### scikit-learn의 크로스 밸리데이션 사용해보기\n",
    "* scikit-learn에서 제공하는 크로스 밸리데이션 메서드 사용"
   ]
  },
  {
   "cell_type": "code",
   "execution_count": 3,
   "id": "c2efb4ac",
   "metadata": {},
   "outputs": [
    {
     "name": "stdout",
     "output_type": "stream",
     "text": [
      "각각의 정답률 =  [0.96666667 0.96666667 0.96666667 0.93333333 1.        ]\n",
      "평균 정답률 =  0.9666666666666666\n"
     ]
    }
   ],
   "source": [
    "import pandas as pd\n",
    "from sklearn import svm, metrics, model_selection\n",
    "import random, re\n",
    "\n",
    "# 붓꽃의 CSV 데이터 읽어 들이기\n",
    "csv = pd.read_csv('iris.csv')\n",
    "\n",
    "# 리스트를 훈련 전용 데이터와 테스트 전용 데이터로 분할하기\n",
    "data = csv[[\"SepalLength\", \"SepalWidth\", \"PetalLength\", \"PetalWidth\"]] # 무작위로 열을 추출\n",
    "label = csv[\"Name\"]\n",
    "\n",
    "# 크로스 밸리데이션하기\n",
    "clf = svm.SVC()\n",
    "scores = model_selection.cross_val_score(clf, data, label, cv=5)\n",
    "print(\"각각의 정답률 = \", scores)\n",
    "print(\"평균 정답률 = \", scores.mean())"
   ]
  },
  {
   "cell_type": "markdown",
   "id": "95576911",
   "metadata": {},
   "source": [
    "> 각 알고리즘에는 여러 개의 매개변수를 지정 가능 -> 적절한 매개변수를 지정하면 정답률이 굉장히 올라간다. <br> 따라서 \"매개변수 튜닝\"은 굉장히 중요한 작업!!\n",
    "### 그리드 서치\n",
    "* 어떤 매개변수가 적절한지 자동으로 조사하는 방법\n",
    "* 각 매개변수를 적당한 범위 내부에서 변경하면서 가장 성능이 좋을 때의 값을 찾는 방법\n",
    "* scikit-learn에서는 그리드 서치를 위한 GridSearchCV() 메서드가 제공"
   ]
  },
  {
   "cell_type": "markdown",
   "id": "21220433",
   "metadata": {},
   "source": [
    "### 그리드 서치를 활용한 매개변수 튜닝"
   ]
  },
  {
   "cell_type": "code",
   "execution_count": 14,
   "id": "91a5dfd7",
   "metadata": {},
   "outputs": [
    {
     "name": "stdout",
     "output_type": "stream",
     "text": [
      "학습 데이터의 수 =  9999\n",
      "학습기 =  SVC(C=1, kernel='linear')\n",
      "정답률 =  0.9\n"
     ]
    }
   ],
   "source": [
    "import pandas as pd\n",
    "from sklearn import model_selection, svm, metrics\n",
    "from sklearn.model_selection import GridSearchCV\n",
    "\n",
    "# MNIST 학습 데이터 읽어 들이기\n",
    "train_csv = pd.read_csv(\"./mnist/train.csv\")\n",
    "test_csv = pd.read_csv(\"./mnist/t10k.csv\")\n",
    "\n",
    "# 필요한 열 추출하기\n",
    "train_label = train_csv.iloc[:, 0]\n",
    "train_data = train_csv.iloc[:, 1:577]\n",
    "test_label = test_csv.iloc[:, 0]\n",
    "test_data = test_csv.iloc[:, 1:577]\n",
    "print(\"학습 데이터의 수 = \", len(train_label))\n",
    "\n",
    "# 그리드 서치 매개변수 설정\n",
    "params = [\n",
    "    {\"C\": [1, 10, 100, 1000], \"kernel\":[\"linear\"]},\n",
    "    {\"C\": [1, 10, 100, 1000], \"kernel\":[\"rbf\"], \"gamma\":[0.001, 0.0001]}\n",
    "]\n",
    "\n",
    "# 그리드 서치 수행\n",
    "clf = GridSearchCV(svm.SVC(), params, n_jobs=-1) # n_jobs로 병렬 계산할 프로세스 수를 지정(-1: 자동으로 코어의 수에 맞게 프로세스 수를 정해준다.)\n",
    "clf.fit(train_data, train_label)\n",
    "print(\"학습기 = \", clf.best_estimator_)\n",
    "\n",
    "# 테스트 데이터 확인하기\n",
    "pre = clf.predict(test_data)\n",
    "ac_score = metrics.accuracy_score(pre, test_label)\n",
    "print(\"정답률 = \", ac_score)"
   ]
  }
 ],
 "metadata": {
  "kernelspec": {
   "display_name": "Python 3",
   "language": "python",
   "name": "python3"
  },
  "language_info": {
   "codemirror_mode": {
    "name": "ipython",
    "version": 3
   },
   "file_extension": ".py",
   "mimetype": "text/x-python",
   "name": "python",
   "nbconvert_exporter": "python",
   "pygments_lexer": "ipython3",
   "version": "3.8.11"
  }
 },
 "nbformat": 4,
 "nbformat_minor": 5
}

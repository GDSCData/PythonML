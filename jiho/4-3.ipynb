{
 "cells": [
  {
   "cell_type": "markdown",
   "id": "2dd341c2",
   "metadata": {},
   "source": [
    "# 이미지 내부의 문자 인식(MNIST - 손글씨 숫자 데이터)\n",
    " - 데이터 수집: 손글씨 숫자 데이터로 MNIST에서 공개하고 있는 데이터를 사용(http://yann.lecun.com/exdb/mnist/)\n",
    "     - train-images-idx3-ubyte.gz : 학습 전용 이미지 데이터\n",
    "     - train-labels-idx1-ubyte.gz : 학습 전용 레이블 데이터\n",
    "     - t10k-images-idx3-ubyte.gz : 테스트 전용 이미지 데이터\n",
    "     - t10k-labels-idx1-ubyte.gz : 테스트 전용 레이블 데이터"
   ]
  },
  {
   "cell_type": "markdown",
   "id": "66c0fd25",
   "metadata": {},
   "source": [
    "### Gzip 압축을 해제하는 프로그램"
   ]
  },
  {
   "cell_type": "code",
   "execution_count": 3,
   "id": "ee8b7b34",
   "metadata": {
    "scrolled": true
   },
   "outputs": [
    {
     "name": "stdout",
     "output_type": "stream",
     "text": [
      "Download: http://yann.lecun.com/exdb/mnist/train-images-idx3-ubyte.gz\n",
      "Download: http://yann.lecun.com/exdb/mnist/train-labels-idx1-ubyte.gz\n",
      "Download: http://yann.lecun.com/exdb/mnist/t10k-images-idx3-ubyte.gz\n",
      "Download: http://yann.lecun.com/exdb/mnist/t10k-labels-idx1-ubyte.gz\n",
      "Gzip:  train-images-idx3-ubyte.gz\n",
      "Gzip:  train-labels-idx1-ubyte.gz\n",
      "Gzip:  t10k-images-idx3-ubyte.gz\n",
      "Gzip:  t10k-labels-idx1-ubyte.gz\n",
      "Ok!!\n"
     ]
    }
   ],
   "source": [
    "import urllib.request as req\n",
    "import gzip, os, os.path\n",
    "\n",
    "savepath = \"./mnist\"\n",
    "baseurl = \"http://yann.lecun.com/exdb/mnist\"\n",
    "files = [\n",
    "    \"train-images-idx3-ubyte.gz\",\n",
    "    \"train-labels-idx1-ubyte.gz\",\n",
    "    \"t10k-images-idx3-ubyte.gz\",\n",
    "    \"t10k-labels-idx1-ubyte.gz\"\n",
    "]\n",
    "\n",
    "# 다운로드\n",
    "if not os.path.exists(savepath): os.mkdir(savepath)\n",
    "for file in files:\n",
    "    url = baseurl + \"/\" + file\n",
    "    loc = savepath + \"/\" + file\n",
    "    print(\"Download:\", url)\n",
    "    if not os.path.exists(loc):\n",
    "        req.urlretrieve(url, loc)\n",
    "\n",
    "# GZip 압축 해제\n",
    "for file in files:\n",
    "    gz_file = savepath + \"/\" + file\n",
    "    raw_file = savepath + \"/\" +file.replace(\".gz\", \"\")\n",
    "    print(\"Gzip: \", file)\n",
    "    with gzip.open(gz_file, \"rb\") as fp:\n",
    "        body = fp.read()\n",
    "        with open(raw_file, \"wb\") as w:\n",
    "            w.write(body)\n",
    "\n",
    "print (\"Ok!!\")"
   ]
  },
  {
   "cell_type": "markdown",
   "id": "099b9e61",
   "metadata": {},
   "source": [
    "## 바이너리 데이터 분석 후 CSV 파일로 변환"
   ]
  },
  {
   "cell_type": "code",
   "execution_count": 3,
   "id": "e1e3e3bf",
   "metadata": {},
   "outputs": [],
   "source": [
    "import struct\n",
    "\n",
    "def to_csv(name, maxdata):\n",
    "    # 레이블 파일과 이미지 파일 열기\n",
    "    label_file = open(\"./mnist/\" + name + \"-labels-idx1-ubyte\", \"rb\")\n",
    "    img_file = open(\"./mnist/\" + name + \"-images-idx3-ubyte\", \"rb\")\n",
    "    csv_file = open(\"./mnist/\" + name + \".csv\" , \"w\", encoding=\"utf-8\")\n",
    "    \n",
    "    # 헤더 정보 읽기 => 바이너리 처리를 위해 struct 모듈 사용\n",
    "    # 원하는 바이너리 수만큼 읽어 들이고 정수로 변환 => struct.unpack()\n",
    "    # Q) 왜 mag 값이 서로 다른데 중첩해서 mag를 쓴거지?\n",
    "    mag, label_count = struct.unpack(\">II\", label_file.read(8))\n",
    "    mag, img_count = struct.unpack(\">II\", img_file.read(8))\n",
    "    rows, cols = struct.unpack(\">II\", img_file.read(8))\n",
    "    pixels = rows * cols\n",
    "    \n",
    "    # 이미지 데이터를 읽고 CSV로 저장하기\n",
    "    for index in range(label_count):\n",
    "        if index > maxdata: break\n",
    "        label = struct.unpack(\"B\", label_file.read(1))[0]\n",
    "        bdata = img_file.read(pixels)\n",
    "        sdata = list(map(lambda n: str(n), bdata))\n",
    "        csv_file.write(str(label) + \",\")\n",
    "        csv_file.write(\",\".join(sdata) + \"\\r\\n\")\n",
    "        \n",
    "    # 잘 저장됐는지 이미지 파일로 저장해서 테스트하기\n",
    "    if index < 10:\n",
    "        s = \"P2 28 28 255\\n\"\n",
    "        s += \" \".join(sdata)\n",
    "        iname = \"./mnist/{0}-{1}-{2}.pgm\".format(name, index, label)\n",
    "        with open(iname, \"w\", encoding=\"utf-8\") as f:\n",
    "            f.write(s)\n",
    "    \n",
    "    csv_file.close()\n",
    "    label_file.close()\n",
    "    img_file.close()\n",
    "\n",
    "to_csv(\"train\", 9999)\n",
    "to_csv(\"t10k\", 500)"
   ]
  },
  {
   "cell_type": "markdown",
   "id": "f2d11d14",
   "metadata": {},
   "source": [
    "## 이미지 데이터 학습시키기\n",
    "- 이미지 데이터를 사용해 머신러닝 => 이미지 데이터를 어떻게 입력해야 좋을지 생각!!\n",
    "\n",
    "### 손글씨 숫자 데이터를 어떻게 벡터로 변환할 수 있을까?\n",
    "* 이미지 픽셀 데이터를 그대로 벡터로 넣는 방법\n",
    "\n",
    "### 이미지 픽셀 데이터 -> 24x24(576)의 벡터로 그대로 넣어 학습시키는 프로그램\n",
    "1. CSV 파일에서 학습 데이터와 테스트 데이터를 읽는다.\n",
    "2. 학습 데이터를 사용해 이미지 픽셀을 학습.\n",
    "3. 테스트 데이터를 활용해 예측\n",
    "4. 예측 결과와 답을 비교해서 정답률을 구한다."
   ]
  },
  {
   "cell_type": "code",
   "execution_count": 4,
   "id": "ea986220",
   "metadata": {},
   "outputs": [
    {
     "name": "stdout",
     "output_type": "stream",
     "text": [
      "정답률 =  0.9560878243512974\n",
      "리포트 = \n",
      "              precision    recall  f1-score   support\n",
      "\n",
      "           0       0.93      0.98      0.95        42\n",
      "           1       1.00      1.00      1.00        67\n",
      "           2       0.98      0.96      0.97        55\n",
      "           3       0.93      0.91      0.92        46\n",
      "           4       0.93      0.98      0.96        55\n",
      "           5       0.92      0.94      0.93        50\n",
      "           6       0.98      0.93      0.95        43\n",
      "           7       0.94      0.96      0.95        49\n",
      "           8       0.93      0.97      0.95        40\n",
      "           9       1.00      0.91      0.95        54\n",
      "\n",
      "    accuracy                           0.96       501\n",
      "   macro avg       0.95      0.95      0.95       501\n",
      "weighted avg       0.96      0.96      0.96       501\n",
      "\n"
     ]
    }
   ],
   "source": [
    "from sklearn import model_selection, svm, metrics\n",
    "\n",
    "# CSV 파일을 읽어 들이고 가공하기\n",
    "def load_csv(filename):\n",
    "    labels = []\n",
    "    images = []\n",
    "    \n",
    "    with open(filename, \"r\") as f:\n",
    "        for line in f:\n",
    "            cols = line.split(\",\")\n",
    "            if len(cols) < 2: continue\n",
    "            labels.append(int(cols.pop(0)))\n",
    "            # 이미지 데이터의 각 픽셀은 0~255까지의 정수, 이를 256으로 나눔으로써 0 이상 1 미만인 '실수 벡터' 가 된다.\n",
    "            vals = list(map(lambda n: int(n) / 256, cols)) \n",
    "            images.append(vals)\n",
    "    return {\"labels\": labels, \"images\": images}\n",
    "\n",
    "data = load_csv(\"./mnist/train.csv\")\n",
    "test = load_csv(\"./mnist/t10k.csv\")\n",
    "\n",
    "# 학습하기\n",
    "clf = svm.SVC()\n",
    "clf.fit(data[\"images\"], data[\"labels\"])\n",
    "\n",
    "# 예측하기\n",
    "predict = clf.predict(test[\"images\"])\n",
    "\n",
    "# 결과 확인하기\n",
    "ac_score = metrics.accuracy_score(test[\"labels\"], predict)\n",
    "cl_report = metrics.classification_report(test[\"labels\"], predict)\n",
    "print(\"정답률 = \", ac_score)\n",
    "print(\"리포트 = \")\n",
    "print(cl_report)\n"
   ]
  },
  {
   "cell_type": "code",
   "execution_count": null,
   "id": "c41520c2",
   "metadata": {},
   "outputs": [],
   "source": []
  }
 ],
 "metadata": {
  "kernelspec": {
   "display_name": "Python 3",
   "language": "python",
   "name": "python3"
  },
  "language_info": {
   "codemirror_mode": {
    "name": "ipython",
    "version": 3
   },
   "file_extension": ".py",
   "mimetype": "text/x-python",
   "name": "python",
   "nbconvert_exporter": "python",
   "pygments_lexer": "ipython3",
   "version": "3.8.11"
  }
 },
 "nbformat": 4,
 "nbformat_minor": 5
}

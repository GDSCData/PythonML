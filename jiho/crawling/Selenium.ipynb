{
 "cells": [
  {
   "cell_type": "markdown",
   "id": "478f2f54",
   "metadata": {},
   "source": [
    "# Selenium\n",
    "* 로그인, 어떤 결과에 대한 필터링 등 어떤 동작을 해야 하는 경우\n",
    "* 크롬 버전에 맞는 chromedriver.exe가 필요하다.\n",
    "\n",
    "- 공부 사이트: https://selenium-python.readthedocs.io/installation.html"
   ]
  },
  {
   "cell_type": "code",
   "execution_count": 14,
   "id": "0b120039",
   "metadata": {
    "scrolled": false
   },
   "outputs": [
    {
     "name": "stderr",
     "output_type": "stream",
     "text": [
      "<ipython-input-14-1a9361ffa675>:5: DeprecationWarning: executable_path has been deprecated, please pass in a Service object\n",
      "  browser = webdriver.Chrome(executable_path=\"/Users/jujiho/gdsc/PythonML/jiho/crawling/chromedriver\") # 크롬 웹 드라이버 객체를 생성\n"
     ]
    }
   ],
   "source": [
    "from selenium import webdriver\n",
    "\n",
    "# 현재 폴더에 chromedriver exec 파일이 존재하니 아무런 인자가 필요 없지만 다른 경로에 있다면 경로를 넣어줘야함!!\n",
    "# browser = webdriver.Chrome() # 크롬 웹 드라이버 객체를 생성\n",
    "browser = webdriver.Chrome(executable_path=\"/Users/jujiho/gdsc/PythonML/jiho/crawling/chromedriver\") # 크롬 웹 드라이버 객체를 생성\n",
    "browser.get(\"http://naver.com\") # 브라우저에서 그 url로 이동하는 작업"
   ]
  },
  {
   "cell_type": "markdown",
   "id": "e3de1901",
   "metadata": {},
   "source": [
    "## Selenium 심화 - 네이버 로그인"
   ]
  },
  {
   "cell_type": "code",
   "execution_count": 11,
   "id": "899d934a",
   "metadata": {},
   "outputs": [
    {
     "name": "stderr",
     "output_type": "stream",
     "text": [
      "<ipython-input-11-0231dd040bf8>:4: DeprecationWarning: executable_path has been deprecated, please pass in a Service object\n",
      "  browser = webdriver.Chrome(executable_path=\"./chromedriver\")\n",
      "<ipython-input-11-0231dd040bf8>:10: DeprecationWarning: find_element_by_* commands are deprecated. Please use find_element() instead\n",
      "  elem = browser.find_element_by_class_name(\"link_login\")\n",
      "<ipython-input-11-0231dd040bf8>:14: DeprecationWarning: find_element_by_* commands are deprecated. Please use find_element() instead\n",
      "  browser.find_element_by_id(\"id\").send_keys(\"naver_id\")\n",
      "<ipython-input-11-0231dd040bf8>:15: DeprecationWarning: find_element_by_* commands are deprecated. Please use find_element() instead\n",
      "  browser.find_element_by_id(\"pw\").send_keys(\"password\")\n",
      "<ipython-input-11-0231dd040bf8>:18: DeprecationWarning: find_element_by_* commands are deprecated. Please use find_element() instead\n",
      "  browser.find_element_by_id(\"log.login\").click()\n",
      "<ipython-input-11-0231dd040bf8>:23: DeprecationWarning: find_element_by_* commands are deprecated. Please use find_element() instead\n",
      "  browser.find_element_by_id(\"id\").clear()\n",
      "<ipython-input-11-0231dd040bf8>:24: DeprecationWarning: find_element_by_* commands are deprecated. Please use find_element() instead\n",
      "  browser.find_element_by_id(\"id\").send_keys(\"my_id\")\n"
     ]
    }
   ],
   "source": [
    "import time\n",
    "from selenium import webdriver\n",
    "\n",
    "browser = webdriver.Chrome(executable_path=\"./chromedriver\")\n",
    "\n",
    "# 1. 네이버 이동\n",
    "browser.get(\"http://naver.com\")\n",
    "\n",
    "# 2. 로그인 버튼 클릭\n",
    "elem = browser.find_element_by_class_name(\"link_login\")\n",
    "elem.click()\n",
    "\n",
    "# 3. id, pw 입력\n",
    "browser.find_element_by_id(\"id\").send_keys(\"naver_id\")\n",
    "browser.find_element_by_id(\"pw\").send_keys(\"password\")\n",
    "\n",
    "# 4. 로그인 버튼 클릭\n",
    "browser.find_element_by_id(\"log.login\").click()\n",
    "\n",
    "time.sleep(3)\n",
    "\n",
    "# 5. id 를 새로 입력\n",
    "browser.find_element_by_id(\"id\").clear()\n",
    "browser.find_element_by_id(\"id\").send_keys(\"my_id\")\n",
    "\n",
    "# 6. html 정보 출력\n",
    "print(browser.page_source)\n",
    "\n",
    "# 7. 브라우저 종료\n",
    "# browser.close() # 현재 탭만 종료\n",
    "browser.quit() # 전체 브라우저 종료"
   ]
  },
  {
   "cell_type": "markdown",
   "id": "0c842493",
   "metadata": {},
   "source": [
    "## Selenium 활용 - 1-1. 네이버 항공권\n",
    "- 문제 : find_elements_by_link_text 를 사용 못함\n",
    "- 그래서 해당 text 문에 해당하는 것들을 다 뽑아와야함,,,\n",
    "\n",
    "* 때로는 어떤 결과를 얻을 때 기다림이 필요한 경우가 존재\n",
    "    - 페이지에 대한 로딩이 필요, 업로드까지 시간이 걸리는 경우\n",
    "    - \"WebDriverWait(browser, 10).until(EC.presence_of_element_located((By.XPATH, \"//*[@id='content']\")))\""
   ]
  },
  {
   "cell_type": "code",
   "execution_count": 44,
   "id": "eee8a3e6",
   "metadata": {},
   "outputs": [
    {
     "name": "stderr",
     "output_type": "stream",
     "text": [
      "<ipython-input-44-1bccb4565650>:7: DeprecationWarning: executable_path has been deprecated, please pass in a Service object\n",
      "  browser = webdriver.Chrome(executable_path=\"./chromedriver\")\n",
      "<ipython-input-44-1bccb4565650>:15: DeprecationWarning: find_element_by_* commands are deprecated. Please use find_element() instead\n",
      "  browser.find_element_by_xpath(\"//*[@id='__next']/div/div[1]/div[4]/div/div/div[2]/div[2]/button[1]\").click() # xpath를 이용했음!\n",
      "<ipython-input-44-1bccb4565650>:24: DeprecationWarning: find_elements_by_* commands are deprecated. Please use find_elements() instead\n",
      "  browser.find_elements_by_xpath('//b[contains(text(), \"{0}\")]'.format('30'))[0].click()\n"
     ]
    }
   ],
   "source": [
    "import time\n",
    "from selenium import webdriver\n",
    "from selenium.webdriver.common.by import By\n",
    "from selenium.webdriver.support.ui import WebDriverWait\n",
    "from selenium.webdriver.support import expected_conditions as EC\n",
    "\n",
    "browser = webdriver.Chrome(executable_path=\"./chromedriver\")\n",
    "# browser.maximize_window() # 창 최대화\n",
    "\n",
    "url = \"https://flight.naver.com/\"\n",
    "browser.get(url) # url 로 이동\n",
    "\n",
    "# 가는 날 선택 클릭\n",
    "# browser.find_element_link_text(\"가는 날\").click() # if) a 태그의 경우 사용 가능!!\n",
    "browser.find_element_by_xpath(\"//*[@id='__next']/div/div[1]/div[4]/div/div/div[2]/div[2]/button[1]\").click() # xpath를 이용했음!\n",
    "\n",
    "# 이번달 30일, 31일 선택\n",
    "# browser.find_elements_by_link_text(\"30\")[0].click() # [0] -> 이번 달\n",
    "# browser.find_elements_by_link_text(\"31\")[1].click() # [1] -> 다음 달\n",
    "\n",
    "try:\n",
    "    elem = WebDriverWait(browser, 10).until(EC.presence_of_element_located((By.XPATH, \"//*[@id='__next']/div/div[1]/div[4]/div/div/div[2]/div[2]/button[1]\")))\n",
    "    # 성공했을 때 동작 수행\n",
    "    browser.find_elements_by_xpath('//b[contains(text(), \"{0}\")]'.format('30'))[0].click()\n",
    "finally:\n",
    "    browser.quit()\n",
    "\n",
    "# browser.find_elements_by_xpath('//*[contains(text(), \"{0}\") and @class=\"tabContent_option__2y4c6\"]'.format('30'))[0].click() # [0] -> 이번 달\n",
    "# browser.find_element_by_xpath(\"//*[contain(text(), '30')]\")[0].click() # [0] -> 이번 달\n",
    "# browser.find_elements_by_xpath(\"//*[contains(text(), '31')]\")[0].click() # [0] -> 이번 달"
   ]
  },
  {
   "cell_type": "markdown",
   "id": "009934bc",
   "metadata": {},
   "source": [
    "## Selenium 활용 - 2-1. 구글 무비 -> 사이트 변경으로 인해 동적 페이징을 직접 확인 x\n",
    "- 동적 페이지에 대한 웹 스크래핑\n",
    "    - 동적 페이지 : 일반적으로 페이지가 접속될 때 바로 불러와지는게 아니고 사용자가 어느 동작을 했을 때 그때서야 동작을 하는 페이지\n",
    "    - ex) 스크롤을 내렸을 때 새로운 항목들을 게시\n",
    "- '구글 무비'의 경우 스크롤을 내릴 때마다 새로운 더 많은 영화들이 업데이트가 되면서 보여지게 된다. => 동적!!"
   ]
  },
  {
   "cell_type": "code",
   "execution_count": 57,
   "id": "9a4dab90",
   "metadata": {},
   "outputs": [
    {
     "name": "stdout",
     "output_type": "stream",
     "text": [
      "100\n"
     ]
    }
   ],
   "source": [
    "import requests\n",
    "from bs4 import BeautifulSoup\n",
    "\n",
    "url = \"https://play.google.com/store/movies\"\n",
    "# headers에 대한 정보를 바탕으로 각 나라등에 맞는 html을 보내주는데 requests로 불러온 파일은 외국? 영어 html로 가져옴 \n",
    "# 그래서 headers에 자신의 user-agent 와 한글로 된 페이지를 요청할 수 있게 설정해서 requests로 html 파일을 불러온다.\n",
    "headers = {\n",
    "    \"User-Agent\":\"Mozilla/5.0 (Macintosh; Intel Mac OS X 10_15_7) AppleWebKit/537.36 (KHTML, like Gecko) Chrome/96.0.4664.110 Safari/537.36\",\n",
    "    \"Accept-Language\":\"ko-KR,ko\" # 한글로 된 페이지를 요청할 수 있다.\n",
    "}\n",
    "\n",
    "res = requests.get(url, headers=headers)\n",
    "res.raise_for_status()\n",
    "soup = BeautifulSoup(res.content, \"html.parser\")\n",
    "\n",
    "movies = soup.find_all(\"div\", attrs={\"class\":\"VfPpkd-WsjYwc\"}) # class 명은 해당x, 기본적인 흐름을 파악!\n",
    "print(len(movies)) # 계속 0이 나옴,,,\n",
    "\n",
    "# with open(\"movie.html\", \"w\", encoding=\"utf-8\") as f:\n",
    "#     # f.write(res.text)\n",
    "#     f.write(soup.prettify()) # html 문서를 예쁘게 출력\n",
    "\n",
    "# for movie in movies:\n",
    "#     title = movie.find(\"div\", attrs={\"class\":\"Class 명\"}).get_text()\n",
    "\n",
    "#########################################################################################################\n",
    "\n",
    "from selenium import webdriver\n",
    "\n",
    "browser = webdriver.Chrome(executable_path=\"./chromedriver\")\n",
    "# browser.maximize_window()\n",
    "\n",
    "# 페이지 이동\n",
    "url = \"https://play.google.com/store/movies\"\n",
    "browser.get(url)\n",
    "\n",
    "# 지정한 위치로 스크롤 내리기\n",
    "# 모니터(해상도) 높이인 1080 위치로 스크롤 내리기\n",
    "browser.execute_script(\"window.scrollTo(0, 1080)\") # 1920 x 1080 (해상도), 즉 한페이지를 스크롤 다운\n",
    "browser.execute_script(\"window.scrollTo(0, 2080)\") # 2080만큼 스크롤을 내린다.\n",
    "\n",
    "# 화면 가장 아래로 스크롤 내리기 -> 이 부분을 반복 언제까지?? 높이가 변하지 않을 때까지!\n",
    "browser.execute_script(\"window.scrollTo(0, document.body.scrollHeight)\") # 문서의 총 높이만큼 스크롤을 내림\n",
    "\n",
    "import time\n",
    "interval = 2 # 2초에 한번씩 스크롤 내림\n",
    "\n",
    "# 현재 문서 높이를 가져와서 저장\n",
    "prev_height = browser.execute_script(\"return document.body.scrollHeight\")\n",
    "\n",
    "\n",
    "# 반복 수행\n",
    "while True:\n",
    "    # 스크롤을 가장 아래로 내림\n",
    "    browser.execute_script(\"window.scrollTo(0, document.body.scrollHeight)\")\n",
    "    \n",
    "    # 페이지 로딩 대기\n",
    "    time.sleep(interval) \n",
    "    \n",
    "    current_height = browser.execute_script(\"return document.body.scrollHeight\")\n",
    "    if current_height == prev_height:\n",
    "        break\n",
    "    \n",
    "    prev_height = current_height\n",
    "\n",
    "print(\"스크롤 완료\")\n",
    "\n",
    "import requests\n",
    "from bs4 import BeautifulSoup\n",
    "\n",
    "soup = BeautifulSoup(browser.page_source, \"html.parser\")\n",
    "\n",
    "# 클래스 명을 2개 이상을 가져오고 싶다 => 다음과 같이 리스트 활용!\n",
    "movies = soup.find_all(\"div\", attrs={\"class\":[\"VfPpkd-WsjYwc\", \"또 다른 class 명\"]}) # class 명은 해당x, 기본적인 흐름을 파악!\n",
    "\n",
    "for movie in movies:\n",
    "    title = movie.find(\"div\", attrs={\"class\":\"Class 명\"}).get_text()\n",
    "    \n",
    "    # 할인 전 가격\n",
    "    original_price = movie.find(\"span\", attrs={\"class\":\"Class 명\"})\n",
    "    if original_price:\n",
    "        original_price = original_price.get_text()\n",
    "    else:\n",
    "        print(title, \"  <할인되지 않은 영화 제외>\")\n",
    "        continue\n",
    "    \n",
    "    # 할인된 가격\n",
    "    price = movie.find(\"span\", attrs={\"class\":\"Class 명\"})\n",
    "    \n",
    "    # 링크\n",
    "    link = movie.find(\"a\", attrs={\"class\":\"Class 명\"})[\"href\"]\n",
    "    # 올바른 링크: https://play.google.com + link\n",
    "    print(f\"제목: {title}\")\n",
    "    print(f\"할인 전 금액 : {original_price}\")\n",
    "    print(f\"할인 후 금액 : {price}\")\n",
    "    print(\"링크 : \", link)\n",
    "    print(\"-\" * 120)\n",
    "\n",
    "browser.quit()"
   ]
  },
  {
   "cell_type": "markdown",
   "id": "26c9d501",
   "metadata": {},
   "source": [
    "## Headless Chrome\n",
    "- 우리가 셀레니움을 통해 웹스크래핑을 하다보면 매번 브라우저를 직접 띄우면서 화면에 움직임이 하나하나 보임.\n",
    "    - 메모리를 많이 잡아 먹는다.\n",
    "    - 속도가 좀 느린 면도 있다.\n",
    "- 우리가 화면을 볼 필요도 없고 서버단에서 웹 스크래핑 작업을 한다면 굳이 브라우저를 띄우는 작업을 할 필요 X\n",
    "    - 이를 위해 \"Headless Chrome\" 을 사용\n",
    "* 크롬이 없는 크롬 -> 크롬을 띄우지 않고 크롬을 사용할 수 있는 즉, 백그라운드에서 동작하는 것!"
   ]
  },
  {
   "cell_type": "code",
   "execution_count": null,
   "id": "48e9c36a",
   "metadata": {},
   "outputs": [],
   "source": [
    "import time\n",
    "from selenium import webdriver\n",
    "\n",
    "options = webdriver.ChromeOptions()\n",
    "options.headless = True\n",
    "# 크롬에서는 눈에 보이지 않지만 백그라운드에서 도는 브라우저의 크기를 얼마큼으로 띄워줄지는 모르기 때문에 명시적으로 제공 가능\n",
    "options.add_argument(\"window-size=1920x1080\") # 해당 크기에 맞춰서 브라우저를 띄워서 내부적으로 동작함.\n",
    "# 페이지가 어떻게 보여지는 지에 대해 스크린샷을 찍을 수 있다.\n",
    "# browser.get_screenshot_as_file(\"google_movie.png\")\n",
    "\n",
    "browser = webdriver.Chrome(executable_path=\"./chromedriver\", options=options)\n",
    "# browser.maximize_window()\n",
    "\n",
    "# 페이지 이동\n",
    "url = \"https://play.google.com/store/movies\"\n",
    "browser.get(url)\n",
    "\n",
    "# 화면 가장 아래로 스크롤 내리기 -> 이 부분을 반복 언제까지?? 높이가 변하지 않을 때까지!\n",
    "browser.execute_script(\"window.scrollTo(0, document.body.scrollHeight)\") # 문서의 총 높이만큼 스크롤을 내림\n",
    "\n",
    "interval = 2 # 2초에 한번씩 스크롤 내림\n",
    "\n",
    "# 현재 문서 높이를 가져와서 저장\n",
    "prev_height = browser.execute_script(\"return document.body.scrollHeight\")\n",
    "\n",
    "# 반복 수행\n",
    "while True:\n",
    "    # 스크롤을 가장 아래로 내림\n",
    "    browser.execute_script(\"window.scrollTo(0, document.body.scrollHeight)\")\n",
    "    \n",
    "    # 페이지 로딩 대기\n",
    "    time.sleep(interval) \n",
    "    \n",
    "    current_height = browser.execute_script(\"return document.body.scrollHeight\")\n",
    "    if current_height == prev_height:\n",
    "        break\n",
    "    \n",
    "    prev_height = current_height\n",
    "print(\"스크롤 완료\")\n",
    "# browser.get_screenshot_as_file(\"google_movie.png\")\n",
    "\n",
    "import requests\n",
    "from bs4 import BeautifulSoup\n",
    "\n",
    "soup = BeautifulSoup(browser.page_source, \"html.parser\")\n",
    "\n",
    "# 클래스 명을 2개 이상을 가져오고 싶다 => 다음과 같이 리스트 활용!\n",
    "movies = soup.find_all(\"div\", attrs={\"class\":[\"VfPpkd-WsjYwc\", \"또 다른 class 명\"]}) # class 명은 해당x, 기본적인 흐름을 파악!\n",
    "\n",
    "for movie in movies:\n",
    "    title = movie.find(\"div\", attrs={\"class\":\"Class 명\"}).get_text()\n",
    "    \n",
    "    # 할인 전 가격\n",
    "    original_price = movie.find(\"span\", attrs={\"class\":\"Class 명\"})\n",
    "    if original_price:\n",
    "        original_price = original_price.get_text()\n",
    "    else:\n",
    "        print(title, \"  <할인되지 않은 영화 제외>\")\n",
    "        continue\n",
    "    \n",
    "    # 할인된 가격\n",
    "    price = movie.find(\"span\", attrs={\"class\":\"Class 명\"})\n",
    "    \n",
    "    # 링크\n",
    "    link = movie.find(\"a\", attrs={\"class\":\"Class 명\"})[\"href\"]\n",
    "    # 올바른 링크: https://play.google.com + link\n",
    "    print(f\"제목: {title}\")\n",
    "    print(f\"할인 전 금액 : {original_price}\")\n",
    "    print(f\"할인 후 금액 : {price}\")\n",
    "    print(\"링크 : \", link)\n",
    "    print(\"-\" * 120)\n",
    "\n",
    "browser.quit()"
   ]
  },
  {
   "cell_type": "markdown",
   "id": "1980e401",
   "metadata": {},
   "source": [
    "### Headless Chrome을 사용할 경우 User Agent 값을 따로 바꿀 상황이 있을 수 있다.\n",
    "\n",
    "- headless chrome의 경우 따로 user agent 설정을 안해줬을 때 다음과 같이 user agent 정보가 날아갈 수 있기에\n",
    "- 서버 입장에서는 headless chrome 이네? -> 이 브라우저의 접속을 막을거야.\n",
    "    - 이럴 경우 user agent 값을 설정 가능\n",
    "- 즉, headless chrome의 경우 user agent 정보가 날아갈 수 있기에 user aget 값을 설정할 필요가 있다."
   ]
  },
  {
   "cell_type": "code",
   "execution_count": 4,
   "id": "4712ecd3",
   "metadata": {},
   "outputs": [
    {
     "name": "stderr",
     "output_type": "stream",
     "text": [
      "<ipython-input-4-41cd78d74fba>:10: DeprecationWarning: executable_path has been deprecated, please pass in a Service object\n",
      "  browser = webdriver.Chrome(executable_path=\"./chromedriver\", options=options)\n"
     ]
    },
    {
     "name": "stdout",
     "output_type": "stream",
     "text": [
      "Mozilla/5.0 (Macintosh; Intel Mac OS X 10_15_7) AppleWebKit/537.36 (KHTML, like Gecko) HeadlessChrome/96.0.4664.110 Safari/537.36\n"
     ]
    },
    {
     "name": "stderr",
     "output_type": "stream",
     "text": [
      "<ipython-input-4-41cd78d74fba>:16: DeprecationWarning: find_element_by_* commands are deprecated. Please use find_element() instead\n",
      "  detected_value = browser.find_element_by_id(\"custom-ua-string\")\n"
     ]
    }
   ],
   "source": [
    "import time\n",
    "from selenium import webdriver\n",
    "\n",
    "options = webdriver.ChromeOptions()\n",
    "options.headless = True\n",
    "# 크롬에서는 눈에 보이지 않지만 백그라운드에서 도는 브라우저의 크기를 얼마큼으로 띄워줄지는 모르기 때문에 명시적으로 제공 가능\n",
    "options.add_argument(\"window-size=1920x1080\") # 해당 크기에 맞춰서 브라우저를 띄워서 내부적으로 동작함.\n",
    "# options.add_argument(\"user-agent=Mozilla/5.0... Chrome/...\")\n",
    "# Mozilla/5.0 ... HeadlessChrome/...\n",
    "\n",
    "browser = webdriver.Chrome(executable_path=\"./chromedriver\", options=options)\n",
    "browser.maximize_window()\n",
    "\n",
    "url = \"https://www.whatsmyua.info\"\n",
    "browser.get(url)\n",
    "\n",
    "detected_value = browser.find_element_by_id(\"custom-ua-string\")\n",
    "print(detected_value.text)\n",
    "browser.quit()"
   ]
  },
  {
   "cell_type": "code",
   "execution_count": null,
   "id": "421cef03",
   "metadata": {},
   "outputs": [],
   "source": []
  }
 ],
 "metadata": {
  "kernelspec": {
   "display_name": "Python 3",
   "language": "python",
   "name": "python3"
  },
  "language_info": {
   "codemirror_mode": {
    "name": "ipython",
    "version": 3
   },
   "file_extension": ".py",
   "mimetype": "text/x-python",
   "name": "python",
   "nbconvert_exporter": "python",
   "pygments_lexer": "ipython3",
   "version": "3.8.11"
  }
 },
 "nbformat": 4,
 "nbformat_minor": 5
}

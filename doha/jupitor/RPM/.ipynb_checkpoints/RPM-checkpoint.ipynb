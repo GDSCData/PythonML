{
 "cells": [
  {
   "cell_type": "code",
   "execution_count": 1,
   "id": "b1b910e6-0ef7-44dc-9638-02555cecee60",
   "metadata": {},
   "outputs": [],
   "source": [
    "import pandas as pd\n",
    "import math\n",
    "from sklearn.ensemble import RandomForestRegressor\n",
    "from sklearn.model_selection import GridSearchCV\n",
    "import matplotlib.pyplot as plt\n",
    "from sklearn.model_selection import KFold\n",
    "import seaborn as sns\n",
    "from sklearn.feature_selection import SelectKBest\n",
    "from sklearn.feature_selection import f_classif\n",
    "%config Completer.use_jedi = False\n",
    "%matplotlib inline"
   ]
  },
  {
   "cell_type": "code",
   "execution_count": 2,
   "id": "db710928-b3a3-47bc-a1c9-7d91656d2621",
   "metadata": {},
   "outputs": [],
   "source": [
    "train=pd.read_csv(\"train.csv\", delimiter = ',', low_memory=False)\n",
    "test=pd.read_csv(\"test.csv\", delimiter = ',', low_memory=False)\n",
    "submission=pd.read_csv('answer_sample.csv')\n",
    "train = train.apply(pd.to_numeric, errors='coerce')\n",
    "test = test.apply(pd.to_numeric, errors='coerce')"
   ]
  },
  {
   "cell_type": "code",
   "execution_count": 3,
   "id": "4b433e39-a83e-4521-9d9f-2dfffcaf1e4b",
   "metadata": {},
   "outputs": [
    {
     "name": "stdout",
     "output_type": "stream",
     "text": [
      "age                     float64\n",
      "afib                    float64\n",
      "chf                     float64\n",
      "copd                    float64\n",
      "diabetes                float64\n",
      "htn                     float64\n",
      "spo2                    float64\n",
      "avg_spo2                float64\n",
      "heartrate               float64\n",
      "avg_heartrate           float64\n",
      "bloodpressuresys        float64\n",
      "avg_bloodpressuresys    float64\n",
      "bloodpressuredia        float64\n",
      "avg_bloodpressuredia    float64\n",
      "total_alert             float64\n",
      "intervention            float64\n",
      "dtype: object\n"
     ]
    }
   ],
   "source": [
    "print (train.dtypes)"
   ]
  },
  {
   "cell_type": "code",
   "execution_count": 4,
   "id": "b182d121-4d5c-4c18-89dc-ed3c73ff311f",
   "metadata": {},
   "outputs": [
    {
     "data": {
      "text/html": [
       "<div>\n",
       "<style scoped>\n",
       "    .dataframe tbody tr th:only-of-type {\n",
       "        vertical-align: middle;\n",
       "    }\n",
       "\n",
       "    .dataframe tbody tr th {\n",
       "        vertical-align: top;\n",
       "    }\n",
       "\n",
       "    .dataframe thead th {\n",
       "        text-align: right;\n",
       "    }\n",
       "</style>\n",
       "<table border=\"1\" class=\"dataframe\">\n",
       "  <thead>\n",
       "    <tr style=\"text-align: right;\">\n",
       "      <th></th>\n",
       "      <th>age</th>\n",
       "      <th>afib</th>\n",
       "      <th>chf</th>\n",
       "      <th>copd</th>\n",
       "      <th>diabetes</th>\n",
       "      <th>htn</th>\n",
       "      <th>spo2</th>\n",
       "      <th>avg_spo2</th>\n",
       "      <th>heartrate</th>\n",
       "      <th>avg_heartrate</th>\n",
       "      <th>bloodpressuresys</th>\n",
       "      <th>avg_bloodpressuresys</th>\n",
       "      <th>bloodpressuredia</th>\n",
       "      <th>avg_bloodpressuredia</th>\n",
       "      <th>total_alert</th>\n",
       "      <th>intervention</th>\n",
       "    </tr>\n",
       "  </thead>\n",
       "  <tbody>\n",
       "    <tr>\n",
       "      <th>0</th>\n",
       "      <td>76.0</td>\n",
       "      <td>0.0</td>\n",
       "      <td>0.0</td>\n",
       "      <td>1.0</td>\n",
       "      <td>0.0</td>\n",
       "      <td>0.0</td>\n",
       "      <td>96.000000</td>\n",
       "      <td>95.625000</td>\n",
       "      <td>86.000000</td>\n",
       "      <td>68.000000</td>\n",
       "      <td>129.000000</td>\n",
       "      <td>107.250000</td>\n",
       "      <td>64.000000</td>\n",
       "      <td>59.875000</td>\n",
       "      <td>0.0</td>\n",
       "      <td>0.0</td>\n",
       "    </tr>\n",
       "    <tr>\n",
       "      <th>1</th>\n",
       "      <td>76.0</td>\n",
       "      <td>0.0</td>\n",
       "      <td>0.0</td>\n",
       "      <td>1.0</td>\n",
       "      <td>0.0</td>\n",
       "      <td>0.0</td>\n",
       "      <td>94.000000</td>\n",
       "      <td>96.000000</td>\n",
       "      <td>63.000000</td>\n",
       "      <td>65.615385</td>\n",
       "      <td>114.000000</td>\n",
       "      <td>111.230769</td>\n",
       "      <td>63.000000</td>\n",
       "      <td>60.769231</td>\n",
       "      <td>0.0</td>\n",
       "      <td>0.0</td>\n",
       "    </tr>\n",
       "    <tr>\n",
       "      <th>2</th>\n",
       "      <td>78.0</td>\n",
       "      <td>0.0</td>\n",
       "      <td>0.0</td>\n",
       "      <td>1.0</td>\n",
       "      <td>0.0</td>\n",
       "      <td>1.0</td>\n",
       "      <td>99.000000</td>\n",
       "      <td>94.875000</td>\n",
       "      <td>74.000000</td>\n",
       "      <td>69.875000</td>\n",
       "      <td>125.000000</td>\n",
       "      <td>129.875000</td>\n",
       "      <td>71.000000</td>\n",
       "      <td>68.750000</td>\n",
       "      <td>0.0</td>\n",
       "      <td>0.0</td>\n",
       "    </tr>\n",
       "    <tr>\n",
       "      <th>3</th>\n",
       "      <td>64.0</td>\n",
       "      <td>0.0</td>\n",
       "      <td>0.0</td>\n",
       "      <td>1.0</td>\n",
       "      <td>0.0</td>\n",
       "      <td>1.0</td>\n",
       "      <td>96.000000</td>\n",
       "      <td>94.290323</td>\n",
       "      <td>88.000000</td>\n",
       "      <td>81.741935</td>\n",
       "      <td>135.000000</td>\n",
       "      <td>129.064516</td>\n",
       "      <td>73.000000</td>\n",
       "      <td>73.935484</td>\n",
       "      <td>0.0</td>\n",
       "      <td>0.0</td>\n",
       "    </tr>\n",
       "    <tr>\n",
       "      <th>4</th>\n",
       "      <td>69.0</td>\n",
       "      <td>0.0</td>\n",
       "      <td>0.0</td>\n",
       "      <td>1.0</td>\n",
       "      <td>0.0</td>\n",
       "      <td>1.0</td>\n",
       "      <td>96.000000</td>\n",
       "      <td>96.071429</td>\n",
       "      <td>83.000000</td>\n",
       "      <td>81.928571</td>\n",
       "      <td>144.000000</td>\n",
       "      <td>125.785714</td>\n",
       "      <td>84.000000</td>\n",
       "      <td>84.142857</td>\n",
       "      <td>0.0</td>\n",
       "      <td>0.0</td>\n",
       "    </tr>\n",
       "    <tr>\n",
       "      <th>5</th>\n",
       "      <td>69.0</td>\n",
       "      <td>0.0</td>\n",
       "      <td>0.0</td>\n",
       "      <td>1.0</td>\n",
       "      <td>0.0</td>\n",
       "      <td>1.0</td>\n",
       "      <td>92.019894</td>\n",
       "      <td>95.208855</td>\n",
       "      <td>64.801057</td>\n",
       "      <td>70.527563</td>\n",
       "      <td>79.960211</td>\n",
       "      <td>101.936700</td>\n",
       "      <td>54.840846</td>\n",
       "      <td>66.487775</td>\n",
       "      <td>1.0</td>\n",
       "      <td>1.0</td>\n",
       "    </tr>\n",
       "    <tr>\n",
       "      <th>6</th>\n",
       "      <td>65.0</td>\n",
       "      <td>0.0</td>\n",
       "      <td>0.0</td>\n",
       "      <td>0.0</td>\n",
       "      <td>0.0</td>\n",
       "      <td>1.0</td>\n",
       "      <td>93.943507</td>\n",
       "      <td>94.414313</td>\n",
       "      <td>72.112987</td>\n",
       "      <td>68.633081</td>\n",
       "      <td>75.258009</td>\n",
       "      <td>84.505971</td>\n",
       "      <td>45.516018</td>\n",
       "      <td>56.334596</td>\n",
       "      <td>1.0</td>\n",
       "      <td>1.0</td>\n",
       "    </tr>\n",
       "    <tr>\n",
       "      <th>7</th>\n",
       "      <td>76.0</td>\n",
       "      <td>0.0</td>\n",
       "      <td>0.0</td>\n",
       "      <td>0.0</td>\n",
       "      <td>0.0</td>\n",
       "      <td>1.0</td>\n",
       "      <td>97.000000</td>\n",
       "      <td>96.846154</td>\n",
       "      <td>55.000000</td>\n",
       "      <td>62.000000</td>\n",
       "      <td>145.000000</td>\n",
       "      <td>138.692308</td>\n",
       "      <td>82.000000</td>\n",
       "      <td>68.384615</td>\n",
       "      <td>0.0</td>\n",
       "      <td>0.0</td>\n",
       "    </tr>\n",
       "    <tr>\n",
       "      <th>8</th>\n",
       "      <td>59.0</td>\n",
       "      <td>0.0</td>\n",
       "      <td>0.0</td>\n",
       "      <td>1.0</td>\n",
       "      <td>0.0</td>\n",
       "      <td>0.0</td>\n",
       "      <td>99.000000</td>\n",
       "      <td>96.000000</td>\n",
       "      <td>90.000000</td>\n",
       "      <td>86.500000</td>\n",
       "      <td>108.000000</td>\n",
       "      <td>113.666667</td>\n",
       "      <td>71.000000</td>\n",
       "      <td>78.500000</td>\n",
       "      <td>0.0</td>\n",
       "      <td>0.0</td>\n",
       "    </tr>\n",
       "    <tr>\n",
       "      <th>9</th>\n",
       "      <td>66.0</td>\n",
       "      <td>0.0</td>\n",
       "      <td>0.0</td>\n",
       "      <td>1.0</td>\n",
       "      <td>0.0</td>\n",
       "      <td>0.0</td>\n",
       "      <td>89.979936</td>\n",
       "      <td>93.895318</td>\n",
       "      <td>130.804013</td>\n",
       "      <td>98.272048</td>\n",
       "      <td>129.763884</td>\n",
       "      <td>114.971379</td>\n",
       "      <td>94.665891</td>\n",
       "      <td>68.758983</td>\n",
       "      <td>1.0</td>\n",
       "      <td>1.0</td>\n",
       "    </tr>\n",
       "  </tbody>\n",
       "</table>\n",
       "</div>"
      ],
      "text/plain": [
       "    age  afib  chf  copd  diabetes  htn       spo2   avg_spo2   heartrate  \\\n",
       "0  76.0   0.0  0.0   1.0       0.0  0.0  96.000000  95.625000   86.000000   \n",
       "1  76.0   0.0  0.0   1.0       0.0  0.0  94.000000  96.000000   63.000000   \n",
       "2  78.0   0.0  0.0   1.0       0.0  1.0  99.000000  94.875000   74.000000   \n",
       "3  64.0   0.0  0.0   1.0       0.0  1.0  96.000000  94.290323   88.000000   \n",
       "4  69.0   0.0  0.0   1.0       0.0  1.0  96.000000  96.071429   83.000000   \n",
       "5  69.0   0.0  0.0   1.0       0.0  1.0  92.019894  95.208855   64.801057   \n",
       "6  65.0   0.0  0.0   0.0       0.0  1.0  93.943507  94.414313   72.112987   \n",
       "7  76.0   0.0  0.0   0.0       0.0  1.0  97.000000  96.846154   55.000000   \n",
       "8  59.0   0.0  0.0   1.0       0.0  0.0  99.000000  96.000000   90.000000   \n",
       "9  66.0   0.0  0.0   1.0       0.0  0.0  89.979936  93.895318  130.804013   \n",
       "\n",
       "   avg_heartrate  bloodpressuresys  avg_bloodpressuresys  bloodpressuredia  \\\n",
       "0      68.000000        129.000000            107.250000         64.000000   \n",
       "1      65.615385        114.000000            111.230769         63.000000   \n",
       "2      69.875000        125.000000            129.875000         71.000000   \n",
       "3      81.741935        135.000000            129.064516         73.000000   \n",
       "4      81.928571        144.000000            125.785714         84.000000   \n",
       "5      70.527563         79.960211            101.936700         54.840846   \n",
       "6      68.633081         75.258009             84.505971         45.516018   \n",
       "7      62.000000        145.000000            138.692308         82.000000   \n",
       "8      86.500000        108.000000            113.666667         71.000000   \n",
       "9      98.272048        129.763884            114.971379         94.665891   \n",
       "\n",
       "   avg_bloodpressuredia  total_alert  intervention  \n",
       "0             59.875000          0.0           0.0  \n",
       "1             60.769231          0.0           0.0  \n",
       "2             68.750000          0.0           0.0  \n",
       "3             73.935484          0.0           0.0  \n",
       "4             84.142857          0.0           0.0  \n",
       "5             66.487775          1.0           1.0  \n",
       "6             56.334596          1.0           1.0  \n",
       "7             68.384615          0.0           0.0  \n",
       "8             78.500000          0.0           0.0  \n",
       "9             68.758983          1.0           1.0  "
      ]
     },
     "execution_count": 4,
     "metadata": {},
     "output_type": "execute_result"
    }
   ],
   "source": [
    "train.head(10)"
   ]
  },
  {
   "cell_type": "code",
   "execution_count": 5,
   "id": "fbd580c7-df92-4ba3-839a-e832cd475f48",
   "metadata": {},
   "outputs": [
    {
     "data": {
      "text/plain": [
       "id                      0\n",
       "age                     0\n",
       "afib                    0\n",
       "chf                     0\n",
       "copd                    0\n",
       "diabetes                0\n",
       "htn                     0\n",
       "spo2                    0\n",
       "avg_spo2                0\n",
       "heartrate               0\n",
       "avg_heartrate           0\n",
       "bloodpressuresys        0\n",
       "avg_bloodpressuresys    0\n",
       "bloodpressuredia        0\n",
       "avg_bloodpressuredia    0\n",
       "total_alert             0\n",
       "dtype: int64"
      ]
     },
     "execution_count": 5,
     "metadata": {},
     "output_type": "execute_result"
    }
   ],
   "source": [
    "test.isna().sum()"
   ]
  },
  {
   "cell_type": "code",
   "execution_count": 6,
   "id": "5a27c456-faf6-4529-a568-c2c3cf068cc8",
   "metadata": {},
   "outputs": [
    {
     "data": {
      "text/plain": [
       "age                     1\n",
       "afib                    1\n",
       "chf                     1\n",
       "copd                    1\n",
       "diabetes                1\n",
       "htn                     1\n",
       "spo2                    1\n",
       "avg_spo2                1\n",
       "heartrate               1\n",
       "avg_heartrate           1\n",
       "bloodpressuresys        1\n",
       "avg_bloodpressuresys    1\n",
       "bloodpressuredia        1\n",
       "avg_bloodpressuredia    1\n",
       "total_alert             1\n",
       "intervention            1\n",
       "dtype: int64"
      ]
     },
     "execution_count": 6,
     "metadata": {},
     "output_type": "execute_result"
    }
   ],
   "source": [
    "train.isna().sum()"
   ]
  },
  {
   "cell_type": "code",
   "execution_count": 7,
   "id": "0c61dc25-bdca-467b-a820-67b48cc8e88e",
   "metadata": {},
   "outputs": [
    {
     "data": {
      "text/html": [
       "<div>\n",
       "<style scoped>\n",
       "    .dataframe tbody tr th:only-of-type {\n",
       "        vertical-align: middle;\n",
       "    }\n",
       "\n",
       "    .dataframe tbody tr th {\n",
       "        vertical-align: top;\n",
       "    }\n",
       "\n",
       "    .dataframe thead th {\n",
       "        text-align: right;\n",
       "    }\n",
       "</style>\n",
       "<table border=\"1\" class=\"dataframe\">\n",
       "  <thead>\n",
       "    <tr style=\"text-align: right;\">\n",
       "      <th></th>\n",
       "      <th>age</th>\n",
       "      <th>afib</th>\n",
       "      <th>chf</th>\n",
       "      <th>copd</th>\n",
       "      <th>diabetes</th>\n",
       "      <th>htn</th>\n",
       "      <th>spo2</th>\n",
       "      <th>avg_spo2</th>\n",
       "      <th>heartrate</th>\n",
       "      <th>avg_heartrate</th>\n",
       "      <th>bloodpressuresys</th>\n",
       "      <th>avg_bloodpressuresys</th>\n",
       "      <th>bloodpressuredia</th>\n",
       "      <th>avg_bloodpressuredia</th>\n",
       "      <th>total_alert</th>\n",
       "      <th>intervention</th>\n",
       "    </tr>\n",
       "  </thead>\n",
       "  <tbody>\n",
       "    <tr>\n",
       "      <th>126759</th>\n",
       "      <td>NaN</td>\n",
       "      <td>NaN</td>\n",
       "      <td>NaN</td>\n",
       "      <td>NaN</td>\n",
       "      <td>NaN</td>\n",
       "      <td>NaN</td>\n",
       "      <td>NaN</td>\n",
       "      <td>NaN</td>\n",
       "      <td>NaN</td>\n",
       "      <td>NaN</td>\n",
       "      <td>NaN</td>\n",
       "      <td>NaN</td>\n",
       "      <td>NaN</td>\n",
       "      <td>NaN</td>\n",
       "      <td>NaN</td>\n",
       "      <td>NaN</td>\n",
       "    </tr>\n",
       "  </tbody>\n",
       "</table>\n",
       "</div>"
      ],
      "text/plain": [
       "        age  afib  chf  copd  diabetes  htn  spo2  avg_spo2  heartrate  \\\n",
       "126759  NaN   NaN  NaN   NaN       NaN  NaN   NaN       NaN        NaN   \n",
       "\n",
       "        avg_heartrate  bloodpressuresys  avg_bloodpressuresys  \\\n",
       "126759            NaN               NaN                   NaN   \n",
       "\n",
       "        bloodpressuredia  avg_bloodpressuredia  total_alert  intervention  \n",
       "126759               NaN                   NaN          NaN           NaN  "
      ]
     },
     "execution_count": 7,
     "metadata": {},
     "output_type": "execute_result"
    }
   ],
   "source": [
    "train[train['age'].isna()]"
   ]
  },
  {
   "cell_type": "code",
   "execution_count": 8,
   "id": "e7051ebc-e247-4998-9313-a05b81eb842f",
   "metadata": {},
   "outputs": [],
   "source": [
    "train = train. dropna()"
   ]
  },
  {
   "cell_type": "code",
   "execution_count": 9,
   "id": "52f9c782-f1fc-433d-aa24-d5cd649049ca",
   "metadata": {},
   "outputs": [
    {
     "data": {
      "text/html": [
       "<div>\n",
       "<style scoped>\n",
       "    .dataframe tbody tr th:only-of-type {\n",
       "        vertical-align: middle;\n",
       "    }\n",
       "\n",
       "    .dataframe tbody tr th {\n",
       "        vertical-align: top;\n",
       "    }\n",
       "\n",
       "    .dataframe thead th {\n",
       "        text-align: right;\n",
       "    }\n",
       "</style>\n",
       "<table border=\"1\" class=\"dataframe\">\n",
       "  <thead>\n",
       "    <tr style=\"text-align: right;\">\n",
       "      <th></th>\n",
       "      <th>age</th>\n",
       "      <th>afib</th>\n",
       "      <th>chf</th>\n",
       "      <th>copd</th>\n",
       "      <th>diabetes</th>\n",
       "      <th>htn</th>\n",
       "      <th>spo2</th>\n",
       "      <th>avg_spo2</th>\n",
       "      <th>heartrate</th>\n",
       "      <th>avg_heartrate</th>\n",
       "      <th>bloodpressuresys</th>\n",
       "      <th>avg_bloodpressuresys</th>\n",
       "      <th>bloodpressuredia</th>\n",
       "      <th>avg_bloodpressuredia</th>\n",
       "      <th>total_alert</th>\n",
       "      <th>intervention</th>\n",
       "    </tr>\n",
       "  </thead>\n",
       "  <tbody>\n",
       "    <tr>\n",
       "      <th>631</th>\n",
       "      <td>-5462.0</td>\n",
       "      <td>0.0</td>\n",
       "      <td>0.0</td>\n",
       "      <td>1.0</td>\n",
       "      <td>0.0</td>\n",
       "      <td>1.0</td>\n",
       "      <td>93.428750</td>\n",
       "      <td>97.197174</td>\n",
       "      <td>63.872917</td>\n",
       "      <td>66.516870</td>\n",
       "      <td>104.252919</td>\n",
       "      <td>138.341955</td>\n",
       "      <td>47.125836</td>\n",
       "      <td>72.770081</td>\n",
       "      <td>1.0</td>\n",
       "      <td>1.0</td>\n",
       "    </tr>\n",
       "    <tr>\n",
       "      <th>1143</th>\n",
       "      <td>-3827.0</td>\n",
       "      <td>0.0</td>\n",
       "      <td>0.0</td>\n",
       "      <td>1.0</td>\n",
       "      <td>0.0</td>\n",
       "      <td>1.0</td>\n",
       "      <td>90.807332</td>\n",
       "      <td>94.640665</td>\n",
       "      <td>67.611935</td>\n",
       "      <td>70.526002</td>\n",
       "      <td>122.671611</td>\n",
       "      <td>143.402302</td>\n",
       "      <td>55.447741</td>\n",
       "      <td>75.719125</td>\n",
       "      <td>1.0</td>\n",
       "      <td>1.0</td>\n",
       "    </tr>\n",
       "    <tr>\n",
       "      <th>1493</th>\n",
       "      <td>-4185.0</td>\n",
       "      <td>1.0</td>\n",
       "      <td>0.0</td>\n",
       "      <td>0.0</td>\n",
       "      <td>0.0</td>\n",
       "      <td>1.0</td>\n",
       "      <td>96.462753</td>\n",
       "      <td>98.772385</td>\n",
       "      <td>63.731377</td>\n",
       "      <td>68.192249</td>\n",
       "      <td>127.546259</td>\n",
       "      <td>151.189610</td>\n",
       "      <td>58.941298</td>\n",
       "      <td>79.129792</td>\n",
       "      <td>1.0</td>\n",
       "      <td>1.0</td>\n",
       "    </tr>\n",
       "    <tr>\n",
       "      <th>1933</th>\n",
       "      <td>-5439.0</td>\n",
       "      <td>1.0</td>\n",
       "      <td>0.0</td>\n",
       "      <td>0.0</td>\n",
       "      <td>0.0</td>\n",
       "      <td>1.0</td>\n",
       "      <td>95.711938</td>\n",
       "      <td>98.803669</td>\n",
       "      <td>63.355969</td>\n",
       "      <td>67.238088</td>\n",
       "      <td>110.840630</td>\n",
       "      <td>144.932820</td>\n",
       "      <td>47.679076</td>\n",
       "      <td>74.186928</td>\n",
       "      <td>1.0</td>\n",
       "      <td>1.0</td>\n",
       "    </tr>\n",
       "    <tr>\n",
       "      <th>2216</th>\n",
       "      <td>-2693.0</td>\n",
       "      <td>0.0</td>\n",
       "      <td>0.0</td>\n",
       "      <td>1.0</td>\n",
       "      <td>0.0</td>\n",
       "      <td>1.0</td>\n",
       "      <td>89.110192</td>\n",
       "      <td>92.943526</td>\n",
       "      <td>69.478788</td>\n",
       "      <td>72.223141</td>\n",
       "      <td>133.872731</td>\n",
       "      <td>145.184298</td>\n",
       "      <td>62.915154</td>\n",
       "      <td>78.236548</td>\n",
       "      <td>1.0</td>\n",
       "      <td>1.0</td>\n",
       "    </tr>\n",
       "    <tr>\n",
       "      <th>...</th>\n",
       "      <td>...</td>\n",
       "      <td>...</td>\n",
       "      <td>...</td>\n",
       "      <td>...</td>\n",
       "      <td>...</td>\n",
       "      <td>...</td>\n",
       "      <td>...</td>\n",
       "      <td>...</td>\n",
       "      <td>...</td>\n",
       "      <td>...</td>\n",
       "      <td>...</td>\n",
       "      <td>...</td>\n",
       "      <td>...</td>\n",
       "      <td>...</td>\n",
       "      <td>...</td>\n",
       "      <td>...</td>\n",
       "    </tr>\n",
       "    <tr>\n",
       "      <th>296222</th>\n",
       "      <td>-6629.0</td>\n",
       "      <td>1.0</td>\n",
       "      <td>0.0</td>\n",
       "      <td>1.0</td>\n",
       "      <td>0.0</td>\n",
       "      <td>1.0</td>\n",
       "      <td>98.000000</td>\n",
       "      <td>99.071429</td>\n",
       "      <td>65.000000</td>\n",
       "      <td>66.928571</td>\n",
       "      <td>110.000000</td>\n",
       "      <td>127.785714</td>\n",
       "      <td>74.000000</td>\n",
       "      <td>66.500000</td>\n",
       "      <td>0.0</td>\n",
       "      <td>0.0</td>\n",
       "    </tr>\n",
       "    <tr>\n",
       "      <th>297591</th>\n",
       "      <td>-199.0</td>\n",
       "      <td>0.0</td>\n",
       "      <td>0.0</td>\n",
       "      <td>1.0</td>\n",
       "      <td>0.0</td>\n",
       "      <td>1.0</td>\n",
       "      <td>86.339511</td>\n",
       "      <td>89.370947</td>\n",
       "      <td>64.924553</td>\n",
       "      <td>70.165558</td>\n",
       "      <td>119.056915</td>\n",
       "      <td>136.467693</td>\n",
       "      <td>67.792851</td>\n",
       "      <td>84.921749</td>\n",
       "      <td>1.0</td>\n",
       "      <td>1.0</td>\n",
       "    </tr>\n",
       "    <tr>\n",
       "      <th>297938</th>\n",
       "      <td>-6629.0</td>\n",
       "      <td>1.0</td>\n",
       "      <td>0.0</td>\n",
       "      <td>1.0</td>\n",
       "      <td>0.0</td>\n",
       "      <td>1.0</td>\n",
       "      <td>98.000000</td>\n",
       "      <td>99.200000</td>\n",
       "      <td>70.000000</td>\n",
       "      <td>66.200000</td>\n",
       "      <td>97.000000</td>\n",
       "      <td>111.800000</td>\n",
       "      <td>71.000000</td>\n",
       "      <td>55.000000</td>\n",
       "      <td>0.0</td>\n",
       "      <td>0.0</td>\n",
       "    </tr>\n",
       "    <tr>\n",
       "      <th>297952</th>\n",
       "      <td>-886.0</td>\n",
       "      <td>1.0</td>\n",
       "      <td>0.0</td>\n",
       "      <td>0.0</td>\n",
       "      <td>0.0</td>\n",
       "      <td>0.0</td>\n",
       "      <td>94.139997</td>\n",
       "      <td>95.364655</td>\n",
       "      <td>115.460176</td>\n",
       "      <td>93.394758</td>\n",
       "      <td>136.280139</td>\n",
       "      <td>139.172001</td>\n",
       "      <td>81.720150</td>\n",
       "      <td>79.218033</td>\n",
       "      <td>1.0</td>\n",
       "      <td>1.0</td>\n",
       "    </tr>\n",
       "    <tr>\n",
       "      <th>298090</th>\n",
       "      <td>-5313.0</td>\n",
       "      <td>1.0</td>\n",
       "      <td>0.0</td>\n",
       "      <td>0.0</td>\n",
       "      <td>0.0</td>\n",
       "      <td>0.0</td>\n",
       "      <td>94.803039</td>\n",
       "      <td>98.038926</td>\n",
       "      <td>75.014595</td>\n",
       "      <td>72.531026</td>\n",
       "      <td>104.454108</td>\n",
       "      <td>139.039392</td>\n",
       "      <td>47.241950</td>\n",
       "      <td>71.725655</td>\n",
       "      <td>1.0</td>\n",
       "      <td>1.0</td>\n",
       "    </tr>\n",
       "  </tbody>\n",
       "</table>\n",
       "<p>345 rows × 16 columns</p>\n",
       "</div>"
      ],
      "text/plain": [
       "           age  afib  chf  copd  diabetes  htn       spo2   avg_spo2  \\\n",
       "631    -5462.0   0.0  0.0   1.0       0.0  1.0  93.428750  97.197174   \n",
       "1143   -3827.0   0.0  0.0   1.0       0.0  1.0  90.807332  94.640665   \n",
       "1493   -4185.0   1.0  0.0   0.0       0.0  1.0  96.462753  98.772385   \n",
       "1933   -5439.0   1.0  0.0   0.0       0.0  1.0  95.711938  98.803669   \n",
       "2216   -2693.0   0.0  0.0   1.0       0.0  1.0  89.110192  92.943526   \n",
       "...        ...   ...  ...   ...       ...  ...        ...        ...   \n",
       "296222 -6629.0   1.0  0.0   1.0       0.0  1.0  98.000000  99.071429   \n",
       "297591  -199.0   0.0  0.0   1.0       0.0  1.0  86.339511  89.370947   \n",
       "297938 -6629.0   1.0  0.0   1.0       0.0  1.0  98.000000  99.200000   \n",
       "297952  -886.0   1.0  0.0   0.0       0.0  0.0  94.139997  95.364655   \n",
       "298090 -5313.0   1.0  0.0   0.0       0.0  0.0  94.803039  98.038926   \n",
       "\n",
       "         heartrate  avg_heartrate  bloodpressuresys  avg_bloodpressuresys  \\\n",
       "631      63.872917      66.516870        104.252919            138.341955   \n",
       "1143     67.611935      70.526002        122.671611            143.402302   \n",
       "1493     63.731377      68.192249        127.546259            151.189610   \n",
       "1933     63.355969      67.238088        110.840630            144.932820   \n",
       "2216     69.478788      72.223141        133.872731            145.184298   \n",
       "...            ...            ...               ...                   ...   \n",
       "296222   65.000000      66.928571        110.000000            127.785714   \n",
       "297591   64.924553      70.165558        119.056915            136.467693   \n",
       "297938   70.000000      66.200000         97.000000            111.800000   \n",
       "297952  115.460176      93.394758        136.280139            139.172001   \n",
       "298090   75.014595      72.531026        104.454108            139.039392   \n",
       "\n",
       "        bloodpressuredia  avg_bloodpressuredia  total_alert  intervention  \n",
       "631            47.125836             72.770081          1.0           1.0  \n",
       "1143           55.447741             75.719125          1.0           1.0  \n",
       "1493           58.941298             79.129792          1.0           1.0  \n",
       "1933           47.679076             74.186928          1.0           1.0  \n",
       "2216           62.915154             78.236548          1.0           1.0  \n",
       "...                  ...                   ...          ...           ...  \n",
       "296222         74.000000             66.500000          0.0           0.0  \n",
       "297591         67.792851             84.921749          1.0           1.0  \n",
       "297938         71.000000             55.000000          0.0           0.0  \n",
       "297952         81.720150             79.218033          1.0           1.0  \n",
       "298090         47.241950             71.725655          1.0           1.0  \n",
       "\n",
       "[345 rows x 16 columns]"
      ]
     },
     "execution_count": 9,
     "metadata": {},
     "output_type": "execute_result"
    }
   ],
   "source": [
    "train[train['age']<0]"
   ]
  },
  {
   "cell_type": "markdown",
   "id": "f86fff37-72a4-476b-9e36-f8c5a509dd1f",
   "metadata": {},
   "source": [
    "age에 음수가 있는 것은 잘못된 값이라 생각되어, 평균 값으로 바꿔줬다. 두 번 한 이유는, 첫번째 평균은 음수가 포함된 평균이기에, 일단 걔네를 양수로 바꾼 뒤 다시 한 것이다."
   ]
  },
  {
   "cell_type": "code",
   "execution_count": 10,
   "id": "385df448-eefb-4506-857f-4012490c7d4d",
   "metadata": {},
   "outputs": [
    {
     "data": {
      "text/plain": [
       "69.93986646622156"
      ]
     },
     "execution_count": 10,
     "metadata": {},
     "output_type": "execute_result"
    }
   ],
   "source": [
    "train['age'].mean()"
   ]
  },
  {
   "cell_type": "code",
   "execution_count": 11,
   "id": "5a9d5c43-a43e-4678-97f6-4ec725172dc2",
   "metadata": {},
   "outputs": [],
   "source": [
    "test.loc[test.age < 0, 'age']=69.93986646622156"
   ]
  },
  {
   "cell_type": "code",
   "execution_count": 12,
   "id": "932ab600-b41d-4bce-b2c8-bbfd6ebe06ce",
   "metadata": {},
   "outputs": [],
   "source": [
    "train.loc[train.age < 0, 'age']=69.93986646622156"
   ]
  },
  {
   "cell_type": "code",
   "execution_count": 13,
   "id": "93cb60e7-bb28-404c-9dbc-061b8ad281d3",
   "metadata": {},
   "outputs": [
    {
     "data": {
      "text/plain": [
       "74.34081864916462"
      ]
     },
     "execution_count": 13,
     "metadata": {},
     "output_type": "execute_result"
    }
   ],
   "source": [
    "train['age'].mean()"
   ]
  },
  {
   "cell_type": "code",
   "execution_count": 14,
   "id": "0f1a8446-7d78-4895-87b5-a84033a6b583",
   "metadata": {},
   "outputs": [],
   "source": [
    "train.loc[train.age == 69.93986646622156, 'age']=74.34081864916462"
   ]
  },
  {
   "cell_type": "code",
   "execution_count": 15,
   "id": "4f246495-704b-4924-887c-b09c42b2fe26",
   "metadata": {},
   "outputs": [],
   "source": [
    "test.loc[test.age == 69.93986646622156, 'age']=74.34081864916462"
   ]
  },
  {
   "cell_type": "code",
   "execution_count": 16,
   "id": "bcc62a6d-1a6e-4508-9a2d-78e4c86f3c8e",
   "metadata": {},
   "outputs": [
    {
     "data": {
      "text/plain": [
       "74.34587976104633"
      ]
     },
     "execution_count": 16,
     "metadata": {},
     "output_type": "execute_result"
    }
   ],
   "source": [
    "train['age'].mean()"
   ]
  },
  {
   "cell_type": "code",
   "execution_count": 17,
   "id": "8da9167b-f7b5-48ad-baa3-d8c280ed8431",
   "metadata": {},
   "outputs": [
    {
     "data": {
      "text/html": [
       "<div>\n",
       "<style scoped>\n",
       "    .dataframe tbody tr th:only-of-type {\n",
       "        vertical-align: middle;\n",
       "    }\n",
       "\n",
       "    .dataframe tbody tr th {\n",
       "        vertical-align: top;\n",
       "    }\n",
       "\n",
       "    .dataframe thead th {\n",
       "        text-align: right;\n",
       "    }\n",
       "</style>\n",
       "<table border=\"1\" class=\"dataframe\">\n",
       "  <thead>\n",
       "    <tr style=\"text-align: right;\">\n",
       "      <th></th>\n",
       "      <th>id</th>\n",
       "      <th>age</th>\n",
       "      <th>afib</th>\n",
       "      <th>chf</th>\n",
       "      <th>copd</th>\n",
       "      <th>diabetes</th>\n",
       "      <th>htn</th>\n",
       "      <th>spo2</th>\n",
       "      <th>avg_spo2</th>\n",
       "      <th>heartrate</th>\n",
       "      <th>avg_heartrate</th>\n",
       "      <th>bloodpressuresys</th>\n",
       "      <th>avg_bloodpressuresys</th>\n",
       "      <th>bloodpressuredia</th>\n",
       "      <th>avg_bloodpressuredia</th>\n",
       "      <th>total_alert</th>\n",
       "    </tr>\n",
       "  </thead>\n",
       "  <tbody>\n",
       "  </tbody>\n",
       "</table>\n",
       "</div>"
      ],
      "text/plain": [
       "Empty DataFrame\n",
       "Columns: [id, age, afib, chf, copd, diabetes, htn, spo2, avg_spo2, heartrate, avg_heartrate, bloodpressuresys, avg_bloodpressuresys, bloodpressuredia, avg_bloodpressuredia, total_alert]\n",
       "Index: []"
      ]
     },
     "execution_count": 17,
     "metadata": {},
     "output_type": "execute_result"
    }
   ],
   "source": [
    "test[test['age']<0]"
   ]
  },
  {
   "cell_type": "code",
   "execution_count": 18,
   "id": "0594b513-6d40-4b9e-aa64-69cd99976adc",
   "metadata": {},
   "outputs": [
    {
     "data": {
      "text/plain": [
       "<AxesSubplot:>"
      ]
     },
     "execution_count": 18,
     "metadata": {},
     "output_type": "execute_result"
    },
    {
     "data": {
      "image/png": "[encoded data removed]",
      "text/plain": [
       "<Figure size 720x720 with 2 Axes>"
      ]
     },
     "metadata": {
      "needs_background": "light"
     },
     "output_type": "display_data"
    }
   ],
   "source": [
    "plt.figure(figsize=(10,10))\n",
    "sns.heatmap(train.corr(),annot=True)"
   ]
  },
  {
   "cell_type": "markdown",
   "id": "350870ce-d564-419b-86ae-93403ab65515",
   "metadata": {},
   "source": [
    "chf 와 diabetes는 constant 이기에 features 후보에서 제외"
   ]
  },
  {
   "cell_type": "code",
   "execution_count": 19,
   "id": "d015a9a4-a38a-4726-8d38-a61cbd1e6a04",
   "metadata": {},
   "outputs": [],
   "source": [
    "features=[\"age\",\"afib\",\"copd\",\"htn\",\"spo2\",\"avg_spo2\",\"heartrate\",\"avg_heartrate\",\"bloodpressuresys\",\"avg_bloodpressuresys\",\"bloodpressuredia\",\"avg_bloodpressuredia\",\"total_alert\"]\n",
    "X_train=train[features]\n",
    "Y_train=train['intervention']\n",
    "X_test=test[features]"
   ]
  },
  {
   "cell_type": "code",
   "execution_count": 20,
   "id": "3db31c98-1aa3-40c8-8bca-609ecd6a5b2a",
   "metadata": {},
   "outputs": [
    {
     "name": "stdout",
     "output_type": "stream",
     "text": [
      "[[84.          0.          1.         ... 89.         74.11111111\n",
      "   0.        ]\n",
      " [77.          0.          0.         ... 75.         77.83333333\n",
      "   0.        ]\n",
      " [63.          1.          0.         ... 86.12731918 95.84076281\n",
      "   1.        ]\n",
      " ...\n",
      " [87.          0.          0.         ... 47.50502034 61.52870796\n",
      "   1.        ]\n",
      " [76.          1.          1.         ... 68.         68.93333333\n",
      "   0.        ]\n",
      " [63.          0.          1.         ... 49.91094419 61.90623391\n",
      "   1.        ]]\n"
     ]
    }
   ],
   "source": [
    "test1 = SelectKBest(score_func=f_classif, k='all')\n",
    "fit = test1.fit(X_train, Y_train)\n",
    "X_train = fit.transform(X_train)\n",
    "X_test = fit.transform(X_test)\n",
    "print(X_test)"
   ]
  },
  {
   "cell_type": "markdown",
   "id": "2b5ab18d-c6fb-4bf8-94e9-b03f57f0b7d6",
   "metadata": {},
   "source": [
    "밑에 param_grid 에 더 많은 값들을 시도해보았다. (ex: max_depth: None, 10, 100 넣고 10이 최적이라 나와서 10 언저리 숫자만 넣고 다시 시도)"
   ]
  },
  {
   "cell_type": "code",
   "execution_count": 22,
   "id": "c66efac0-299f-4281-8f5a-b02dea02af84",
   "metadata": {},
   "outputs": [],
   "source": [
    "param_grid = {\n",
    "    'n_estimators': [100,1000],\n",
    "    'max_depth': [28,30,32],\n",
    "    'min_samples_split': [0.01,0.001],\n",
    "    'max_features': ['sqrt','auto],\n",
    "}\n",
    "kf = KFold(random_state=30,\n",
    "           n_splits=2,\n",
    "           shuffle=True,\n",
    "          )\n",
    "grid_search = GridSearchCV(estimator=RandomForestRegressor(), \n",
    "                           param_grid=param_grid, \n",
    "                           cv=kf, \n",
    "                           n_jobs=-1, \n",
    "                           verbose=2\n",
    "                          )"
   ]
  },
  {
   "cell_type": "code",
   "execution_count": 23,
   "id": "f44ffc8a-b1aa-437c-89ca-c9fa7f62f9f1",
   "metadata": {},
   "outputs": [
    {
     "name": "stdout",
     "output_type": "stream",
     "text": [
      "Fitting 2 folds for each of 3 candidates, totalling 6 fits\n"
     ]
    },
    {
     "data": {
      "text/plain": [
       "GridSearchCV(cv=KFold(n_splits=2, random_state=30, shuffle=True),\n",
       "             estimator=RandomForestRegressor(), n_jobs=-1,\n",
       "             param_grid={'max_depth': [28, 30, 32], 'max_features': ['sqrt'],\n",
       "                         'min_samples_split': [0.01], 'n_estimators': [100]},\n",
       "             verbose=2)"
      ]
     },
     "execution_count": 23,
     "metadata": {},
     "output_type": "execute_result"
    }
   ],
   "source": [
    "grid_search.fit(X_train,Y_train)"
   ]
  },
  {
   "cell_type": "code",
   "execution_count": 24,
   "id": "5f67737b-3041-4fe5-ae52-ca8c7149ac7b",
   "metadata": {},
   "outputs": [
    {
     "data": {
      "text/plain": [
       "{'max_depth': 30,\n",
       " 'max_features': 'sqrt',\n",
       " 'min_samples_split': 0.01,\n",
       " 'n_estimators': 100}"
      ]
     },
     "execution_count": 24,
     "metadata": {},
     "output_type": "execute_result"
    }
   ],
   "source": [
    "grid_search.best_params_"
   ]
  },
  {
   "cell_type": "markdown",
   "id": "ebd444e8-8e46-4f7a-a2ba-6f5a2b56f02c",
   "metadata": {},
   "source": [
    "grid search로 나온 best_params의 값들을 가지고, 최적이라 생각되는 값으로 다시 model을 만들어서 해주었다."
   ]
  },
  {
   "cell_type": "code",
   "execution_count": 25,
   "id": "5470f9b9-b8b4-49fa-a879-df2ff1b73a41",
   "metadata": {},
   "outputs": [
    {
     "data": {
      "text/plain": [
       "RandomForestRegressor(max_depth=30, max_features='sqrt',\n",
       "                      min_samples_split=0.0005, n_estimators=2000, n_jobs=-1)"
      ]
     },
     "execution_count": 25,
     "metadata": {},
     "output_type": "execute_result"
    }
   ],
   "source": [
    "model1=RandomForestRegressor(n_estimators=2000,max_depth=30,max_features='sqrt',min_samples_split=0.0005,n_jobs=-1)\n",
    "model1.fit(X_train,Y_train)"
   ]
  },
  {
   "cell_type": "code",
   "execution_count": 26,
   "id": "3a0348f3-af5f-4216-a277-b36e653e2d6b",
   "metadata": {},
   "outputs": [],
   "source": [
    "pre3=model1.predict(X_test)\n",
    "pre3 = pre3.round(0)\n",
    "pre3 = pre3.astype(int)"
   ]
  },
  {
   "cell_type": "code",
   "execution_count": 27,
   "id": "c0d85309-0129-4e18-91e9-29afca9c9d2a",
   "metadata": {},
   "outputs": [],
   "source": [
    "submission['intervention']=pre3"
   ]
  },
  {
   "cell_type": "code",
   "execution_count": 28,
   "id": "d8f58637-2f9e-4aec-abb9-d64c5a5bf157",
   "metadata": {},
   "outputs": [],
   "source": [
    "submission.to_csv('model2.csv',index=False)"
   ]
  }
 ],
 "metadata": {
  "kernelspec": {
   "display_name": "Python 3 (ipykernel)",
   "language": "python",
   "name": "python3"
  },
  "language_info": {
   "codemirror_mode": {
    "name": "ipython",
    "version": 3
   },
   "file_extension": ".py",
   "mimetype": "text/x-python",
   "name": "python",
   "nbconvert_exporter": "python",
   "pygments_lexer": "ipython3",
   "version": "3.8.11"
  }
 },
 "nbformat": 4,
 "nbformat_minor": 5
}
